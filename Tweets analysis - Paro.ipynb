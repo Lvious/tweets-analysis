{
 "cells": [
  {
   "cell_type": "code",
   "execution_count": 3,
   "metadata": {
    "collapsed": true
   },
   "outputs": [],
   "source": [
    "import numpy as np\n",
    "import pandas as pd\n",
    "import os\n",
    "import json"
   ]
  },
  {
   "cell_type": "markdown",
   "metadata": {},
   "source": [
    "<h3>Create DataFrame based on individual tweets files</h3>"
   ]
  },
  {
   "cell_type": "code",
   "execution_count": 73,
   "metadata": {
    "collapsed": true
   },
   "outputs": [],
   "source": [
    "tweets = []"
   ]
  },
  {
   "cell_type": "code",
   "execution_count": 74,
   "metadata": {
    "collapsed": true
   },
   "outputs": [],
   "source": [
    "for entry in os.scandir('C:/Users/marti_000/Documents/NLP Project/Data/Tweets/Paro'):\n",
    "    if entry.is_file():\n",
    "        tweet_file = open('C:/Users/marti_000/Documents/NLP Project/Data/Tweets/Paro/' + entry.name, encoding='utf-8')\n",
    "        tweets.append(json.loads(tweet_file.read()))"
   ]
  },
  {
   "cell_type": "code",
   "execution_count": 75,
   "metadata": {},
   "outputs": [
    {
     "data": {
      "text/plain": [
       "4187"
      ]
     },
     "execution_count": 75,
     "metadata": {},
     "output_type": "execute_result"
    }
   ],
   "source": [
    "len(tweets)"
   ]
  },
  {
   "cell_type": "code",
   "execution_count": 68,
   "metadata": {
    "collapsed": true
   },
   "outputs": [],
   "source": [
    "del tweets[278]"
   ]
  },
  {
   "cell_type": "code",
   "execution_count": 76,
   "metadata": {
    "collapsed": true
   },
   "outputs": [],
   "source": [
    "tweets_df = pd.DataFrame(tweets, index=[tweet['ID'] for tweet in tweets])\n",
    "tweets_df = tweets_df.drop('ID', axis=1)\n",
    "tweets_df.index.name = 'ID'"
   ]
  },
  {
   "cell_type": "code",
   "execution_count": 77,
   "metadata": {},
   "outputs": [
    {
     "data": {
      "text/plain": [
       "(4187, 12)"
      ]
     },
     "execution_count": 77,
     "metadata": {},
     "output_type": "execute_result"
    }
   ],
   "source": [
    "tweets_df.shape"
   ]
  },
  {
   "cell_type": "code",
   "execution_count": 9,
   "metadata": {},
   "outputs": [
    {
     "data": {
      "text/html": [
       "<div>\n",
       "<style>\n",
       "    .dataframe thead tr:only-child th {\n",
       "        text-align: right;\n",
       "    }\n",
       "\n",
       "    .dataframe thead th {\n",
       "        text-align: left;\n",
       "    }\n",
       "\n",
       "    .dataframe tbody tr th {\n",
       "        vertical-align: top;\n",
       "    }\n",
       "</style>\n",
       "<table border=\"1\" class=\"dataframe\">\n",
       "  <thead>\n",
       "    <tr style=\"text-align: right;\">\n",
       "      <th></th>\n",
       "      <th>datetime</th>\n",
       "      <th>has_media</th>\n",
       "      <th>is_reply</th>\n",
       "      <th>is_retweet</th>\n",
       "      <th>medias</th>\n",
       "      <th>nbr_favorite</th>\n",
       "      <th>nbr_reply</th>\n",
       "      <th>nbr_retweet</th>\n",
       "      <th>text</th>\n",
       "      <th>url</th>\n",
       "      <th>user_id</th>\n",
       "      <th>usernameTweet</th>\n",
       "    </tr>\n",
       "    <tr>\n",
       "      <th>ID</th>\n",
       "      <th></th>\n",
       "      <th></th>\n",
       "      <th></th>\n",
       "      <th></th>\n",
       "      <th></th>\n",
       "      <th></th>\n",
       "      <th></th>\n",
       "      <th></th>\n",
       "      <th></th>\n",
       "      <th></th>\n",
       "      <th></th>\n",
       "      <th></th>\n",
       "    </tr>\n",
       "  </thead>\n",
       "  <tbody>\n",
       "    <tr>\n",
       "      <th>884200730600644610</th>\n",
       "      <td>2017-07-09 21:00:56</td>\n",
       "      <td>NaN</td>\n",
       "      <td>False</td>\n",
       "      <td>False</td>\n",
       "      <td>NaN</td>\n",
       "      <td>1</td>\n",
       "      <td>0</td>\n",
       "      <td>1</td>\n",
       "      <td>Concluyó la  toma  y  paro  de estudiantes de ...</td>\n",
       "      <td>/OvejeroNoticias/status/884200730600644610</td>\n",
       "      <td>3199468276</td>\n",
       "      <td>OvejeroNoticias</td>\n",
       "    </tr>\n",
       "    <tr>\n",
       "      <th>884202300612521984</th>\n",
       "      <td>2017-07-09 21:07:10</td>\n",
       "      <td>True</td>\n",
       "      <td>False</td>\n",
       "      <td>False</td>\n",
       "      <td>[https://t.co/Ovjaub1fv1]</td>\n",
       "      <td>0</td>\n",
       "      <td>0</td>\n",
       "      <td>0</td>\n",
       "      <td>Docentes de Santa Cruz continuarán el  paro : ...</td>\n",
       "      <td>/ElComunalDiario/status/884202300612521984</td>\n",
       "      <td>771060664685174784</td>\n",
       "      <td>ElComunalDiario</td>\n",
       "    </tr>\n",
       "    <tr>\n",
       "      <th>884202625998221312</th>\n",
       "      <td>2017-07-09 21:08:28</td>\n",
       "      <td>NaN</td>\n",
       "      <td>False</td>\n",
       "      <td>False</td>\n",
       "      <td>NaN</td>\n",
       "      <td>0</td>\n",
       "      <td>0</td>\n",
       "      <td>0</td>\n",
       "      <td>De trancazo en trancazo el  gobierno  monta su...</td>\n",
       "      <td>/cabox86/status/884202625998221312</td>\n",
       "      <td>44535962</td>\n",
       "      <td>cabox86</td>\n",
       "    </tr>\n",
       "    <tr>\n",
       "      <th>884202674660442112</th>\n",
       "      <td>2017-07-09 21:08:39</td>\n",
       "      <td>NaN</td>\n",
       "      <td>False</td>\n",
       "      <td>False</td>\n",
       "      <td>NaN</td>\n",
       "      <td>0</td>\n",
       "      <td>0</td>\n",
       "      <td>0</td>\n",
       "      <td>RT unificaluchas \"RT salariojustotsa: Los  com...</td>\n",
       "      <td>/RebelinAluminio/status/884202674660442112</td>\n",
       "      <td>840628267</td>\n",
       "      <td>RebelinAluminio</td>\n",
       "    </tr>\n",
       "    <tr>\n",
       "      <th>884203271711322119</th>\n",
       "      <td>2017-07-09 21:11:02</td>\n",
       "      <td>True</td>\n",
       "      <td>False</td>\n",
       "      <td>False</td>\n",
       "      <td>[]</td>\n",
       "      <td>0</td>\n",
       "      <td>0</td>\n",
       "      <td>0</td>\n",
       "      <td>El  Gobierno  porteño descontará el día de  pa...</td>\n",
       "      <td>/gianluca_drogo/status/884203271711322119</td>\n",
       "      <td>825729469</td>\n",
       "      <td>gianluca_drogo</td>\n",
       "    </tr>\n",
       "  </tbody>\n",
       "</table>\n",
       "</div>"
      ],
      "text/plain": [
       "                               datetime has_media  is_reply  is_retweet  \\\n",
       "ID                                                                        \n",
       "884200730600644610  2017-07-09 21:00:56       NaN     False       False   \n",
       "884202300612521984  2017-07-09 21:07:10      True     False       False   \n",
       "884202625998221312  2017-07-09 21:08:28       NaN     False       False   \n",
       "884202674660442112  2017-07-09 21:08:39       NaN     False       False   \n",
       "884203271711322119  2017-07-09 21:11:02      True     False       False   \n",
       "\n",
       "                                       medias  nbr_favorite  nbr_reply  \\\n",
       "ID                                                                       \n",
       "884200730600644610                        NaN             1          0   \n",
       "884202300612521984  [https://t.co/Ovjaub1fv1]             0          0   \n",
       "884202625998221312                        NaN             0          0   \n",
       "884202674660442112                        NaN             0          0   \n",
       "884203271711322119                         []             0          0   \n",
       "\n",
       "                    nbr_retweet  \\\n",
       "ID                                \n",
       "884200730600644610            1   \n",
       "884202300612521984            0   \n",
       "884202625998221312            0   \n",
       "884202674660442112            0   \n",
       "884203271711322119            0   \n",
       "\n",
       "                                                                 text  \\\n",
       "ID                                                                      \n",
       "884200730600644610  Concluyó la  toma  y  paro  de estudiantes de ...   \n",
       "884202300612521984  Docentes de Santa Cruz continuarán el  paro : ...   \n",
       "884202625998221312  De trancazo en trancazo el  gobierno  monta su...   \n",
       "884202674660442112  RT unificaluchas \"RT salariojustotsa: Los  com...   \n",
       "884203271711322119  El  Gobierno  porteño descontará el día de  pa...   \n",
       "\n",
       "                                                           url  \\\n",
       "ID                                                               \n",
       "884200730600644610  /OvejeroNoticias/status/884200730600644610   \n",
       "884202300612521984  /ElComunalDiario/status/884202300612521984   \n",
       "884202625998221312          /cabox86/status/884202625998221312   \n",
       "884202674660442112  /RebelinAluminio/status/884202674660442112   \n",
       "884203271711322119   /gianluca_drogo/status/884203271711322119   \n",
       "\n",
       "                               user_id    usernameTweet  \n",
       "ID                                                       \n",
       "884200730600644610          3199468276  OvejeroNoticias  \n",
       "884202300612521984  771060664685174784  ElComunalDiario  \n",
       "884202625998221312            44535962          cabox86  \n",
       "884202674660442112           840628267  RebelinAluminio  \n",
       "884203271711322119           825729469   gianluca_drogo  "
      ]
     },
     "execution_count": 9,
     "metadata": {},
     "output_type": "execute_result"
    }
   ],
   "source": [
    "tweets_df.head()"
   ]
  },
  {
   "cell_type": "markdown",
   "metadata": {},
   "source": [
    "<h3>Cleaning tweets</h3>"
   ]
  },
  {
   "cell_type": "code",
   "execution_count": 10,
   "metadata": {
    "collapsed": true
   },
   "outputs": [],
   "source": [
    "import re"
   ]
  },
  {
   "cell_type": "code",
   "execution_count": 11,
   "metadata": {
    "collapsed": true
   },
   "outputs": [],
   "source": [
    "def remove_by_regex(tweets, regexp):\n",
    "        tweets.loc[:, 'text'].replace(regexp, '', inplace=True)\n",
    "        return tweets"
   ]
  },
  {
   "cell_type": "code",
   "execution_count": 12,
   "metadata": {
    "collapsed": true
   },
   "outputs": [],
   "source": [
    "def remove_urls(tweets): \n",
    "    return remove_by_regex(tweets_df, re.compile(r'https?://[^\\s<>\"]+|www\\.[^\\s<>\"]+'))"
   ]
  },
  {
   "cell_type": "code",
   "execution_count": 13,
   "metadata": {
    "collapsed": true
   },
   "outputs": [],
   "source": [
    "def remove_usernames(tweets):\n",
    "        return remove_by_regex(tweets, re.compile(r\"@[^\\s]+[\\s]?\"))"
   ]
  },
  {
   "cell_type": "code",
   "execution_count": 14,
   "metadata": {
    "collapsed": true
   },
   "outputs": [],
   "source": [
    "def remove_special_chars(tweets):  # it unrolls the hashtags to normal words\n",
    "        for remove in map(lambda r: re.compile(re.escape(r)), [\",\", \":\", \"\\\"\", \"=\", \"&\", \";\", \"%\", \"$\",\n",
    "                                                                     \"@\", \"%\", \"^\", \"*\", \"(\", \")\", \"{\", \"}\",\n",
    "                                                                     \"[\", \"]\", \"|\", \"/\", \"\\\\\", \">\", \"<\", \"-\",\n",
    "                                                                     \"!\", \"?\", \".\", \"'\",\n",
    "                                                                     \"--\", \"---\", \"#\"]):\n",
    "            tweets.loc[:, 'text'].replace(remove, '', inplace=True)\n",
    "        return tweets"
   ]
  },
  {
   "cell_type": "code",
   "execution_count": 15,
   "metadata": {
    "collapsed": true
   },
   "outputs": [],
   "source": [
    "def remove_numbers(tweets):\n",
    "        return remove_by_regex(tweets, re.compile(r\"\\s?[0-9]+\\.?[0-9]*\"))"
   ]
  },
  {
   "cell_type": "code",
   "execution_count": 78,
   "metadata": {
    "collapsed": true
   },
   "outputs": [],
   "source": [
    "tweets_df = remove_urls(tweets_df)\n",
    "tweets_df = remove_usernames(tweets_df)\n",
    "tweets_df = remove_special_chars(tweets_df)\n",
    "tweets_df = remove_numbers(tweets_df)"
   ]
  },
  {
   "cell_type": "markdown",
   "metadata": {},
   "source": [
    "<h3>Tokenization</h3>"
   ]
  },
  {
   "cell_type": "code",
   "execution_count": 17,
   "metadata": {
    "collapsed": true
   },
   "outputs": [],
   "source": [
    "from nltk.tokenize import word_tokenize"
   ]
  },
  {
   "cell_type": "code",
   "execution_count": 18,
   "metadata": {
    "collapsed": true
   },
   "outputs": [],
   "source": [
    "def tokenize_row(row):\n",
    "            row['text'] = word_tokenize(row['text'])\n",
    "            row['tokenized_text'] = [] + row['text']\n",
    "            return row"
   ]
  },
  {
   "cell_type": "code",
   "execution_count": 79,
   "metadata": {
    "collapsed": true
   },
   "outputs": [],
   "source": [
    "tweets_df = tweets_df.apply(tokenize_row, axis=1)"
   ]
  },
  {
   "cell_type": "code",
   "execution_count": 21,
   "metadata": {
    "collapsed": true
   },
   "outputs": [],
   "source": [
    "def to_lowercase(row):\n",
    "    row['text'] = list(map(lambda str: str.lower(), row['text']))\n",
    "    return row"
   ]
  },
  {
   "cell_type": "code",
   "execution_count": 80,
   "metadata": {
    "collapsed": true
   },
   "outputs": [],
   "source": [
    "tweets_df = tweets_df.apply(to_lowercase, axis=1)"
   ]
  },
  {
   "cell_type": "markdown",
   "metadata": {},
   "source": [
    "<h3>Remove stopwords</h3>"
   ]
  },
  {
   "cell_type": "code",
   "execution_count": 23,
   "metadata": {
    "collapsed": true
   },
   "outputs": [],
   "source": [
    "from collections import Counter, defaultdict\n",
    "from nltk.corpus import stopwords"
   ]
  },
  {
   "cell_type": "code",
   "execution_count": 81,
   "metadata": {},
   "outputs": [
    {
     "data": {
      "text/plain": [
       "[('paro', 4057), ('de', 3984), ('la', 2337), ('el', 2268), ('y', 1915)]"
      ]
     },
     "execution_count": 81,
     "metadata": {},
     "output_type": "execute_result"
    }
   ],
   "source": [
    "words = Counter()\n",
    "for idx in tweets_df.index:\n",
    "    words.update(tweets_df.loc[idx, 'text'])\n",
    "words.most_common(5)"
   ]
  },
  {
   "cell_type": "code",
   "execution_count": 82,
   "metadata": {
    "collapsed": true
   },
   "outputs": [],
   "source": [
    "stop = stopwords.words('spanish')"
   ]
  },
  {
   "cell_type": "code",
   "execution_count": 84,
   "metadata": {
    "collapsed": true
   },
   "outputs": [],
   "source": [
    "stop_domain = ['paro',\n",
    "               'http', 'https',\n",
    "               'a', 'b', 'c', 'd', 'e', 'f', 'g', 'h', 'i', 'j', 'o', 'p', 'q', 'r', 's', 't', 'u', 'v', 'w', 'x', 'z',\n",
    "               'ah', 'ahi', 'ahí', 'alguien', 'ante', 'aquí', 'asi', 'así', 'che', 'cob', 'cómo', 'cn', 'cosa', 'da', 'después', 'eh', 'estan', \n",
    "               'etc', 'fue', 'hola', 'había', 'hace', 'hacia', 'he', 'hs', 'ir', 'jul', 'lt', 'mitma', 'os', 'puede', 'quién', \n",
    "               're', 'retweeted', 'rt', 'sé', 'si', 'sino', 'tal', 'tb', 'tatus', 'tras', 'unas', 'ud', 'us', 'va', 'vas', 'vamos', 'ver', 'ves', \n",
    "               'via', 'vía', 'vos', \n",
    "               'vs', 'xa', 'xd', 'xq',\n",
    "               '¡', '+', '…', '¿',\n",
    "               '+video+cabeza', 'eldestapewebcomc', 'newsgalapagar', 'lavozdelaa', 'borjalujanlago', '¡perú', '¡con', '\"más',\n",
    "               'poorgarprensaobrerao', '¿qué', 'gobiernogenerarparoprecariedadlaboral', 'diariocompsoeacusaal', 'owlylynedcus',\n",
    "               'jajaja', 'jajajaja', 'jajajajaj',\n",
    "               'bitlyumdwrq', 'eldiario', '\"', 'owlyqpdsred', \n",
    "               'twittercomzetaorlandost', 'owlyegpadcawl', 'wpmepjxjrwtp', '¿la', \n",
    "               'agencianovacomnotaaspn__idid_tiponota']"
   ]
  },
  {
   "cell_type": "code",
   "execution_count": 85,
   "metadata": {
    "collapsed": true
   },
   "outputs": [],
   "source": [
    "stop = stop + stop_domain"
   ]
  },
  {
   "cell_type": "code",
   "execution_count": 86,
   "metadata": {
    "collapsed": true
   },
   "outputs": [],
   "source": [
    "stop_whitelist = []"
   ]
  },
  {
   "cell_type": "code",
   "execution_count": 29,
   "metadata": {
    "collapsed": true
   },
   "outputs": [],
   "source": [
    "def remove_stopwords(row, stopwords, stopwords_whitelist):\n",
    "    row['text'] = [word for word in row['text'] if word not in stopwords or word in stopwords_whitelist]\n",
    "    return row"
   ]
  },
  {
   "cell_type": "code",
   "execution_count": 87,
   "metadata": {
    "collapsed": true
   },
   "outputs": [],
   "source": [
    "tweets_df = tweets_df.apply(lambda x: remove_stopwords(x, stop, stop_whitelist), axis=1)"
   ]
  },
  {
   "cell_type": "markdown",
   "metadata": {},
   "source": [
    "Count all words"
   ]
  },
  {
   "cell_type": "code",
   "execution_count": 88,
   "metadata": {
    "collapsed": true
   },
   "outputs": [],
   "source": [
    "words_frequency = defaultdict(int)"
   ]
  },
  {
   "cell_type": "code",
   "execution_count": 56,
   "metadata": {
    "collapsed": true
   },
   "outputs": [],
   "source": [
    "def count_words(row, words_frequency):\n",
    "    for word in row['text']:\n",
    "        words_frequency[word] +=1"
   ]
  },
  {
   "cell_type": "code",
   "execution_count": 89,
   "metadata": {},
   "outputs": [
    {
     "data": {
      "text/plain": [
       "ID\n",
       "884200730600644610    None\n",
       "884202300612521984    None\n",
       "884202625998221312    None\n",
       "884202674660442112    None\n",
       "884203271711322119    None\n",
       "884204272082198528    None\n",
       "884204486167810048    None\n",
       "884205348168577025    None\n",
       "884205922586738688    None\n",
       "884206478189629440    None\n",
       "884206816250523649    None\n",
       "884207251451518976    None\n",
       "884207452878667776    None\n",
       "884207530632552450    None\n",
       "884208048700440576    None\n",
       "884208792870805504    None\n",
       "884208833148715008    None\n",
       "884209376202027009    None\n",
       "884209635300970497    None\n",
       "884210693729374208    None\n",
       "884211537312972801    None\n",
       "884212473401946113    None\n",
       "884213648729702400    None\n",
       "884214201987637248    None\n",
       "884214779279224832    None\n",
       "884214853128290304    None\n",
       "884215557897060352    None\n",
       "884215999624601604    None\n",
       "884216882181672960    None\n",
       "884217366925774848    None\n",
       "                      ... \n",
       "885644325362819072    None\n",
       "885644473224634368    None\n",
       "885644614434263040    None\n",
       "885644982350204929    None\n",
       "885645143323365376    None\n",
       "885645262747824128    None\n",
       "885645609608372224    None\n",
       "885645993571741697    None\n",
       "885646021325443078    None\n",
       "885646080767119360    None\n",
       "885646217501450240    None\n",
       "885646286883565568    None\n",
       "885646455490457600    None\n",
       "885646635237330945    None\n",
       "885646674915414016    None\n",
       "885646789612675072    None\n",
       "885646962808246272    None\n",
       "885647088243146752    None\n",
       "885647117544542208    None\n",
       "885647355026038784    None\n",
       "885647730181328896    None\n",
       "885647952932483072    None\n",
       "885648290347462661    None\n",
       "885648789725433858    None\n",
       "885648978876010497    None\n",
       "885649159893680128    None\n",
       "885649302978277376    None\n",
       "885649313564676096    None\n",
       "885649462751834113    None\n",
       "885649905297100800    None\n",
       "Length: 4187, dtype: object"
      ]
     },
     "execution_count": 89,
     "metadata": {},
     "output_type": "execute_result"
    }
   ],
   "source": [
    "tweets_df.apply(lambda x: count_words(x, words_frequency), axis=1)"
   ]
  },
  {
   "cell_type": "markdown",
   "metadata": {},
   "source": [
    "Remove words that only ocurr once"
   ]
  },
  {
   "cell_type": "code",
   "execution_count": 34,
   "metadata": {
    "collapsed": true
   },
   "outputs": [],
   "source": [
    "def remove_word(row, words_frequency, min_ocurrence=1, max_ocurrence=1000):\n",
    "    row['text'] = [word for word in row['text'] if words_frequency[word] > min_ocurrence and words_frequency[word] < max_ocurrence] \n",
    "    return row"
   ]
  },
  {
   "cell_type": "code",
   "execution_count": 90,
   "metadata": {
    "collapsed": true
   },
   "outputs": [],
   "source": [
    "tweets_df = tweets_df.apply(lambda x: remove_word(x, words_frequency), axis=1)"
   ]
  },
  {
   "cell_type": "code",
   "execution_count": 60,
   "metadata": {
    "collapsed": true
   },
   "outputs": [],
   "source": [
    "tweets_df.to_csv('Data/Paro_Tweets_Cleaned_Version.csv')"
   ]
  },
  {
   "cell_type": "markdown",
   "metadata": {},
   "source": [
    "Sort words in tweets"
   ]
  },
  {
   "cell_type": "code",
   "execution_count": 91,
   "metadata": {},
   "outputs": [
    {
     "data": {
      "text/plain": [
       "ID\n",
       "884200730600644610    None\n",
       "884202300612521984    None\n",
       "884202625998221312    None\n",
       "884202674660442112    None\n",
       "884203271711322119    None\n",
       "884204272082198528    None\n",
       "884204486167810048    None\n",
       "884205348168577025    None\n",
       "884205922586738688    None\n",
       "884206478189629440    None\n",
       "884206816250523649    None\n",
       "884207251451518976    None\n",
       "884207452878667776    None\n",
       "884207530632552450    None\n",
       "884208048700440576    None\n",
       "884208792870805504    None\n",
       "884208833148715008    None\n",
       "884209376202027009    None\n",
       "884209635300970497    None\n",
       "884210693729374208    None\n",
       "884211537312972801    None\n",
       "884212473401946113    None\n",
       "884213648729702400    None\n",
       "884214201987637248    None\n",
       "884214779279224832    None\n",
       "884214853128290304    None\n",
       "884215557897060352    None\n",
       "884215999624601604    None\n",
       "884216882181672960    None\n",
       "884217366925774848    None\n",
       "                      ... \n",
       "885644325362819072    None\n",
       "885644473224634368    None\n",
       "885644614434263040    None\n",
       "885644982350204929    None\n",
       "885645143323365376    None\n",
       "885645262747824128    None\n",
       "885645609608372224    None\n",
       "885645993571741697    None\n",
       "885646021325443078    None\n",
       "885646080767119360    None\n",
       "885646217501450240    None\n",
       "885646286883565568    None\n",
       "885646455490457600    None\n",
       "885646635237330945    None\n",
       "885646674915414016    None\n",
       "885646789612675072    None\n",
       "885646962808246272    None\n",
       "885647088243146752    None\n",
       "885647117544542208    None\n",
       "885647355026038784    None\n",
       "885647730181328896    None\n",
       "885647952932483072    None\n",
       "885648290347462661    None\n",
       "885648789725433858    None\n",
       "885648978876010497    None\n",
       "885649159893680128    None\n",
       "885649302978277376    None\n",
       "885649313564676096    None\n",
       "885649462751834113    None\n",
       "885649905297100800    None\n",
       "Length: 4187, dtype: object"
      ]
     },
     "execution_count": 91,
     "metadata": {},
     "output_type": "execute_result"
    }
   ],
   "source": [
    "tweets_df.apply(lambda x: x['text'].sort(), axis=1)"
   ]
  },
  {
   "cell_type": "markdown",
   "metadata": {},
   "source": [
    "<h3>Create dictionary and corpus</h3>"
   ]
  },
  {
   "cell_type": "code",
   "execution_count": 38,
   "metadata": {},
   "outputs": [
    {
     "name": "stderr",
     "output_type": "stream",
     "text": [
      "C:\\Users\\marti_000\\Anaconda3\\lib\\site-packages\\gensim\\utils.py:860: UserWarning: detected Windows; aliasing chunkize to chunkize_serial\n",
      "  warnings.warn(\"detected Windows; aliasing chunkize to chunkize_serial\")\n"
     ]
    }
   ],
   "source": [
    "from gensim import corpora"
   ]
  },
  {
   "cell_type": "code",
   "execution_count": 92,
   "metadata": {
    "collapsed": true
   },
   "outputs": [],
   "source": [
    "dictionary = corpora.Dictionary(tweets_df['text'])\n",
    "dictionary.compactify()\n",
    "dictionary.save('paro_tweets.dict')"
   ]
  },
  {
   "cell_type": "code",
   "execution_count": 94,
   "metadata": {},
   "outputs": [
    {
     "name": "stdout",
     "output_type": "stream",
     "text": [
      "Dictionary(3508 unique tokens: ['estudiantes', 'toma', 'universidad', 'conflicto', 'continuarán']...)\n"
     ]
    }
   ],
   "source": [
    "print(dictionary)"
   ]
  },
  {
   "cell_type": "code",
   "execution_count": 93,
   "metadata": {
    "collapsed": true
   },
   "outputs": [],
   "source": [
    "corpus = []"
   ]
  },
  {
   "cell_type": "code",
   "execution_count": 95,
   "metadata": {
    "collapsed": true
   },
   "outputs": [],
   "source": [
    "for i,row in tweets_df.text.iteritems():\n",
    "    corpus.append(dictionary.doc2bow(row))"
   ]
  },
  {
   "cell_type": "code",
   "execution_count": 96,
   "metadata": {
    "collapsed": true
   },
   "outputs": [],
   "source": [
    "corpora.MmCorpus.serialize('paro_tweets.mm', corpus)"
   ]
  },
  {
   "cell_type": "markdown",
   "metadata": {},
   "source": [
    "<h3>LDA Modeling</h3>"
   ]
  },
  {
   "cell_type": "code",
   "execution_count": 68,
   "metadata": {
    "collapsed": true
   },
   "outputs": [],
   "source": [
    "from gensim import models"
   ]
  },
  {
   "cell_type": "code",
   "execution_count": 97,
   "metadata": {
    "collapsed": true
   },
   "outputs": [],
   "source": [
    "lda_params = {'num_topics': 10, 'passes': 100, 'alpha': 0.001}"
   ]
  },
  {
   "cell_type": "code",
   "execution_count": 98,
   "metadata": {
    "collapsed": true
   },
   "outputs": [],
   "source": [
    "lda = models.LdaModel(corpus, id2word=dictionary,\n",
    "                        num_topics=lda_params['num_topics'],\n",
    "                        passes=lda_params['passes'],\n",
    "                        alpha = lda_params['alpha'])"
   ]
  },
  {
   "cell_type": "markdown",
   "metadata": {},
   "source": [
    "<h3>Visualization</h3>"
   ]
  },
  {
   "cell_type": "code",
   "execution_count": 71,
   "metadata": {
    "collapsed": true
   },
   "outputs": [],
   "source": [
    "import pyLDAvis.gensim"
   ]
  },
  {
   "cell_type": "code",
   "execution_count": 72,
   "metadata": {},
   "outputs": [
    {
     "name": "stderr",
     "output_type": "stream",
     "text": [
      "C:\\Users\\marti_000\\Anaconda3\\lib\\site-packages\\pyLDAvis\\_prepare.py:387: DeprecationWarning: \n",
      ".ix is deprecated. Please use\n",
      ".loc for label based indexing or\n",
      ".iloc for positional indexing\n",
      "\n",
      "See the documentation here:\n",
      "http://pandas.pydata.org/pandas-docs/stable/indexing.html#deprecate_ix\n",
      "  topic_term_dists = topic_term_dists.ix[topic_order]\n"
     ]
    },
    {
     "data": {
      "text/html": [
       "\n",
       "<link rel=\"stylesheet\" type=\"text/css\" href=\"https://cdn.rawgit.com/bmabey/pyLDAvis/files/ldavis.v1.0.0.css\">\n",
       "\n",
       "\n",
       "<div id=\"ldavis_el27881213148540163212308946\"></div>\n",
       "<script type=\"text/javascript\">\n",
       "\n",
       "var ldavis_el27881213148540163212308946_data = {\"mdsDat\": {\"Freq\": [13.516099259357414, 12.600875251755392, 10.659262011034638, 10.14480842854555, 9.768797528885102, 9.631892245333137, 9.138272907356429, 9.122719630614585, 8.119419032422844, 7.2978537046949326], \"cluster\": [1, 1, 1, 1, 1, 1, 1, 1, 1, 1], \"topics\": [1, 2, 3, 4, 5, 6, 7, 8, 9, 10], \"x\": [0.061668955798548954, 0.2272373387918824, -0.16709569394768442, 0.1934926208274304, -0.11444177466896972, 0.13522405725374423, -0.17381431613291368, -0.07556592532561357, -0.028444673171512374, -0.05826058942491182], \"y\": [-0.12864876168641745, -0.08808746865003993, 0.003900714238856469, 0.052734902250351295, 0.0784043277999809, 0.04334860921745506, -0.11418752262025761, -0.19339275110676638, 0.24154778124244566, 0.10438016931439198]}, \"tinfo\": {\"Category\": [\"Default\", \"Default\", \"Default\", \"Default\", \"Default\", \"Default\", \"Default\", \"Default\", \"Default\", \"Default\", \"Default\", \"Default\", \"Default\", \"Default\", \"Default\", \"Default\", \"Default\", \"Default\", \"Default\", \"Default\", \"Default\", \"Default\", \"Default\", \"Default\", \"Default\", \"Default\", \"Default\", \"Default\", \"Default\", \"Default\", \"Topic1\", \"Topic1\", \"Topic1\", \"Topic1\", \"Topic1\", \"Topic1\", \"Topic1\", \"Topic1\", \"Topic1\", \"Topic1\", \"Topic1\", \"Topic1\", \"Topic1\", \"Topic1\", \"Topic1\", \"Topic1\", \"Topic1\", \"Topic1\", \"Topic1\", \"Topic1\", \"Topic1\", \"Topic1\", \"Topic1\", \"Topic1\", \"Topic1\", \"Topic1\", \"Topic1\", \"Topic1\", \"Topic1\", \"Topic1\", \"Topic1\", \"Topic1\", \"Topic1\", \"Topic1\", \"Topic1\", \"Topic1\", \"Topic1\", \"Topic1\", \"Topic1\", \"Topic1\", \"Topic1\", \"Topic1\", \"Topic1\", \"Topic1\", \"Topic1\", \"Topic1\", \"Topic1\", \"Topic1\", \"Topic1\", \"Topic1\", \"Topic1\", \"Topic1\", \"Topic1\", \"Topic1\", \"Topic1\", \"Topic1\", \"Topic1\", \"Topic1\", \"Topic1\", \"Topic1\", \"Topic1\", \"Topic1\", \"Topic2\", \"Topic2\", \"Topic2\", \"Topic2\", \"Topic2\", \"Topic2\", \"Topic2\", \"Topic2\", \"Topic2\", \"Topic2\", \"Topic2\", \"Topic2\", \"Topic2\", \"Topic2\", \"Topic2\", \"Topic2\", \"Topic2\", \"Topic2\", \"Topic2\", \"Topic2\", \"Topic2\", \"Topic2\", \"Topic2\", \"Topic2\", \"Topic2\", \"Topic2\", \"Topic2\", \"Topic2\", \"Topic2\", \"Topic2\", \"Topic2\", \"Topic2\", \"Topic2\", \"Topic2\", \"Topic2\", \"Topic2\", \"Topic2\", \"Topic2\", \"Topic2\", \"Topic2\", \"Topic2\", \"Topic2\", \"Topic2\", \"Topic2\", \"Topic2\", \"Topic2\", \"Topic2\", \"Topic2\", \"Topic2\", \"Topic2\", \"Topic2\", \"Topic2\", \"Topic2\", \"Topic2\", \"Topic3\", \"Topic3\", \"Topic3\", \"Topic3\", \"Topic3\", \"Topic3\", \"Topic3\", \"Topic3\", \"Topic3\", \"Topic3\", \"Topic3\", \"Topic3\", \"Topic3\", \"Topic3\", \"Topic3\", \"Topic3\", \"Topic3\", \"Topic3\", \"Topic3\", \"Topic3\", \"Topic3\", \"Topic3\", \"Topic3\", \"Topic3\", \"Topic3\", \"Topic3\", \"Topic3\", \"Topic3\", \"Topic3\", \"Topic3\", \"Topic3\", \"Topic3\", \"Topic3\", \"Topic3\", \"Topic3\", \"Topic3\", \"Topic3\", \"Topic3\", \"Topic3\", \"Topic3\", \"Topic3\", \"Topic3\", \"Topic3\", \"Topic3\", \"Topic3\", \"Topic3\", \"Topic3\", \"Topic3\", \"Topic3\", \"Topic3\", \"Topic3\", \"Topic3\", \"Topic3\", \"Topic4\", \"Topic4\", \"Topic4\", \"Topic4\", \"Topic4\", \"Topic4\", \"Topic4\", \"Topic4\", \"Topic4\", \"Topic4\", \"Topic4\", \"Topic4\", \"Topic4\", \"Topic4\", \"Topic4\", \"Topic4\", \"Topic4\", \"Topic4\", \"Topic4\", \"Topic4\", \"Topic4\", \"Topic4\", \"Topic4\", \"Topic4\", \"Topic4\", \"Topic4\", \"Topic4\", \"Topic4\", \"Topic4\", \"Topic4\", \"Topic4\", \"Topic4\", \"Topic4\", \"Topic4\", \"Topic4\", \"Topic4\", \"Topic4\", \"Topic4\", \"Topic4\", \"Topic4\", \"Topic4\", \"Topic4\", \"Topic4\", \"Topic4\", \"Topic4\", \"Topic4\", \"Topic4\", \"Topic5\", \"Topic5\", \"Topic5\", \"Topic5\", \"Topic5\", \"Topic5\", \"Topic5\", \"Topic5\", \"Topic5\", \"Topic5\", \"Topic5\", \"Topic5\", \"Topic5\", \"Topic5\", \"Topic5\", \"Topic5\", \"Topic5\", \"Topic5\", \"Topic5\", \"Topic5\", \"Topic5\", \"Topic5\", \"Topic5\", \"Topic5\", \"Topic5\", \"Topic5\", \"Topic5\", \"Topic5\", \"Topic5\", \"Topic5\", \"Topic5\", \"Topic5\", \"Topic5\", \"Topic5\", \"Topic5\", \"Topic5\", \"Topic5\", \"Topic5\", \"Topic5\", \"Topic5\", \"Topic5\", \"Topic5\", \"Topic5\", \"Topic5\", \"Topic5\", \"Topic5\", \"Topic5\", \"Topic5\", \"Topic5\", \"Topic5\", \"Topic5\", \"Topic6\", \"Topic6\", \"Topic6\", \"Topic6\", \"Topic6\", \"Topic6\", \"Topic6\", \"Topic6\", \"Topic6\", \"Topic6\", \"Topic6\", \"Topic6\", \"Topic6\", \"Topic6\", \"Topic6\", \"Topic6\", \"Topic6\", \"Topic6\", \"Topic6\", \"Topic6\", \"Topic6\", \"Topic6\", \"Topic6\", \"Topic6\", \"Topic6\", \"Topic6\", \"Topic6\", \"Topic6\", \"Topic6\", \"Topic6\", \"Topic6\", \"Topic6\", \"Topic6\", \"Topic6\", \"Topic6\", \"Topic6\", \"Topic6\", \"Topic6\", \"Topic6\", \"Topic6\", \"Topic6\", \"Topic6\", \"Topic6\", \"Topic6\", \"Topic6\", \"Topic6\", \"Topic6\", \"Topic7\", \"Topic7\", \"Topic7\", \"Topic7\", \"Topic7\", \"Topic7\", \"Topic7\", \"Topic7\", \"Topic7\", \"Topic7\", \"Topic7\", \"Topic7\", \"Topic7\", \"Topic7\", \"Topic7\", \"Topic7\", \"Topic7\", \"Topic7\", \"Topic7\", \"Topic7\", \"Topic7\", \"Topic7\", \"Topic7\", \"Topic7\", \"Topic7\", \"Topic7\", \"Topic7\", \"Topic7\", \"Topic7\", \"Topic7\", \"Topic7\", \"Topic7\", \"Topic7\", \"Topic7\", \"Topic7\", \"Topic7\", \"Topic7\", \"Topic7\", \"Topic7\", \"Topic7\", \"Topic7\", \"Topic7\", \"Topic7\", \"Topic7\", \"Topic7\", \"Topic7\", \"Topic7\", \"Topic8\", \"Topic8\", \"Topic8\", \"Topic8\", \"Topic8\", \"Topic8\", \"Topic8\", \"Topic8\", \"Topic8\", \"Topic8\", \"Topic8\", \"Topic8\", \"Topic8\", \"Topic8\", \"Topic8\", \"Topic8\", \"Topic8\", \"Topic8\", \"Topic8\", \"Topic8\", \"Topic8\", \"Topic8\", \"Topic8\", \"Topic8\", \"Topic8\", \"Topic8\", \"Topic8\", \"Topic8\", \"Topic8\", \"Topic8\", \"Topic8\", \"Topic8\", \"Topic8\", \"Topic8\", \"Topic8\", \"Topic8\", \"Topic8\", \"Topic8\", \"Topic8\", \"Topic8\", \"Topic8\", \"Topic8\", \"Topic8\", \"Topic8\", \"Topic8\", \"Topic8\", \"Topic8\", \"Topic9\", \"Topic9\", \"Topic9\", \"Topic9\", \"Topic9\", \"Topic9\", \"Topic9\", \"Topic9\", \"Topic9\", \"Topic9\", \"Topic9\", \"Topic9\", \"Topic9\", \"Topic9\", \"Topic9\", \"Topic9\", \"Topic9\", \"Topic9\", \"Topic9\", \"Topic9\", \"Topic9\", \"Topic9\", \"Topic9\", \"Topic9\", \"Topic9\", \"Topic9\", \"Topic9\", \"Topic9\", \"Topic9\", \"Topic9\", \"Topic9\", \"Topic9\", \"Topic9\", \"Topic9\", \"Topic9\", \"Topic9\", \"Topic9\", \"Topic9\", \"Topic9\", \"Topic9\", \"Topic9\", \"Topic9\", \"Topic9\", \"Topic9\", \"Topic9\", \"Topic9\", \"Topic9\", \"Topic9\", \"Topic9\", \"Topic9\", \"Topic10\", \"Topic10\", \"Topic10\", \"Topic10\", \"Topic10\", \"Topic10\", \"Topic10\", \"Topic10\", \"Topic10\", \"Topic10\", \"Topic10\", \"Topic10\", \"Topic10\", \"Topic10\", \"Topic10\", \"Topic10\", \"Topic10\", \"Topic10\", \"Topic10\", \"Topic10\", \"Topic10\", \"Topic10\", \"Topic10\", \"Topic10\", \"Topic10\", \"Topic10\", \"Topic10\", \"Topic10\", \"Topic10\", \"Topic10\", \"Topic10\", \"Topic10\", \"Topic10\", \"Topic10\", \"Topic10\", \"Topic10\", \"Topic10\", \"Topic10\", \"Topic10\", \"Topic10\", \"Topic10\", \"Topic10\", \"Topic10\", \"Topic10\", \"Topic10\"], \"Freq\": [889.0, 354.0, 149.0, 358.0, 252.0, 266.0, 144.0, 478.0, 137.0, 97.0, 88.0, 171.0, 251.0, 74.0, 125.0, 84.0, 79.0, 74.0, 138.0, 125.0, 81.0, 54.0, 92.0, 82.0, 102.0, 58.0, 53.0, 53.0, 232.0, 110.0, 45.5176384101108, 39.137926788874466, 30.732216635515694, 26.455959046588244, 23.226559629739953, 21.56540607050778, 17.28900912381952, 16.97174889651575, 16.14089913709431, 14.366142215930255, 14.058164566189811, 12.706456980005951, 12.50120750474016, 12.39808100471396, 12.284837867946775, 12.081233034309268, 11.978566604799354, 11.978523177729636, 11.97822564003294, 11.353254486387648, 11.25055974610086, 11.250548262020883, 11.250196538415867, 11.147925836957112, 11.147896685706945, 11.045025419893339, 10.828894020375957, 10.62514831732545, 10.41992353084996, 10.419839042446839, 34.912633826959805, 33.736575760732926, 36.38764038297982, 253.8229436878123, 31.575993764647354, 16.42650507138542, 16.497152319648677, 50.000993952650816, 48.320969396266, 42.5066061088459, 49.778102656691665, 46.845760128306495, 24.652883981829046, 50.64634701829006, 59.494555020357616, 21.38335902862344, 104.48956178228698, 35.316112126958124, 52.650509594644866, 47.34174224937472, 26.60068357509267, 61.751055623564994, 63.94842819461931, 36.84839724083179, 27.195754435126965, 44.149337491331615, 66.60869160205644, 38.60998987627853, 34.311586837208715, 36.81874510036607, 27.92133533718998, 28.539027675576847, 78.29784610414247, 42.33123209438242, 35.884802329323016, 31.57418379080892, 30.655457670043837, 28.305159131008878, 25.306329160049756, 23.590189977155454, 23.05404865925479, 23.054036289927858, 22.046420790843484, 21.319209724704415, 20.71435546289897, 19.997900935883035, 19.38832727134018, 17.52313570650609, 17.42208976255816, 16.108396709098113, 16.108374515184384, 15.071629604034257, 14.455779158605498, 13.638319225726823, 12.921741407193469, 12.609385077791737, 12.508282919701909, 12.508160731540894, 12.30610704218899, 11.690351902506801, 11.589612381349903, 11.589523469797138, 42.71550115039023, 34.13679745830132, 33.70285586645631, 43.54747436260757, 73.30157121125242, 39.59652821203886, 38.98484532345843, 35.14184775188296, 123.09823524228085, 26.91794337832795, 48.891878846249526, 37.080359477937364, 25.22753426823791, 41.56064895269298, 24.24153169709614, 42.35437145317466, 68.19406202029364, 39.83004526455116, 71.3423842639428, 56.326907681561615, 41.031344896616226, 41.80180016717642, 31.52870051540062, 28.99963346948723, 53.066547834939335, 52.757494398292096, 30.678413542736767, 30.140638685195917, 27.936854517058, 20.7558150520598, 17.544214009127746, 15.620440739084074, 15.468958853695701, 15.468949285564518, 15.08285294935276, 14.00723660724077, 13.461214909404484, 12.923537850317485, 12.158289964770544, 11.386038660336137, 10.772451119360904, 10.462141992155688, 10.000249111244614, 9.696884977131035, 9.529942573385226, 9.46245876041278, 9.310763963814003, 8.924657718817302, 8.682057819190362, 8.38689198678389, 8.386891650045879, 8.38688317692072, 8.386859240767988, 8.386830895982893, 35.804586675712066, 16.757432027350372, 24.898741759682984, 16.737699146211032, 38.0772376378, 330.6124777562166, 53.363852751147306, 68.67527586448573, 111.94400391173403, 34.429288764611705, 29.784626336263734, 26.147671358370676, 108.3942246288989, 53.2399957041401, 43.19803316971741, 39.79673171134186, 55.71577783247582, 34.90960121369483, 33.711315526261316, 24.993066100059046, 18.90899500996626, 25.575435389816086, 16.79148626754524, 53.272542728419076, 47.095989774599566, 40.05140392439194, 37.26763950160316, 35.99309723330687, 33.963946518547445, 33.963946518547445, 33.963946518547445, 33.934829243175706, 33.01007819013807, 28.613353242539485, 24.888394253184817, 22.746059253915558, 21.683699769644598, 21.47472956182719, 21.032603773866526, 19.445581337617256, 17.845540710093818, 17.404959864548548, 14.847926069069986, 13.239859493453869, 12.715027616229087, 12.388057077421536, 11.537669768469014, 11.327266165407838, 10.896585877485467, 10.896496617863777, 10.896408206001016, 10.791293865161522, 10.685994412128682, 15.541594722633453, 50.60794511448815, 85.82002419080702, 33.963946518547445, 18.68664611849862, 29.024269463186684, 15.25072116833483, 94.48816740010284, 28.6773314612955, 27.140342009988547, 74.17887980950928, 33.280804904263576, 26.268325319666396, 29.636129065754627, 19.451610088036364, 19.403511612824477, 19.59801239730302, 42.990504062617646, 40.553023623881664, 26.558124087008053, 23.58444268648001, 23.40501975540317, 22.7828650834415, 21.387440833076905, 21.18876831226302, 20.06802630199565, 20.06802630199565, 18.91959927513756, 18.91952097871526, 16.883948773766345, 16.725026114496156, 16.546245703377355, 16.36358490748864, 16.018079798952247, 14.5107296842777, 13.462123417410073, 12.673712098254068, 12.579024379374134, 11.877363979680489, 11.790669202622935, 11.703928272645593, 11.349022077959276, 68.8213475264227, 10.734137976596342, 10.647443219035145, 10.647396645539947, 10.205864124006315, 32.49989366080704, 42.05334811207474, 16.40652250348298, 26.38282545351712, 14.721006577233798, 29.83374724793683, 29.505642600467098, 23.87789462704427, 15.367673212293658, 62.646046286101175, 45.04769853215187, 20.606427266284488, 34.1007009284565, 34.06109049433379, 33.585965078405366, 27.33596815068388, 43.64868984997293, 57.877450949825324, 22.27140892349889, 30.93730095353149, 19.67208686004356, 42.76579779243502, 37.21649805667889, 27.770181485128784, 27.58534395851879, 27.205600236870083, 25.617004727383826, 24.860404123868243, 24.378339029592645, 21.38895324798172, 18.663997198915833, 17.640119288494674, 17.708622265189376, 17.076942503448905, 16.421312668448035, 16.421312668448035, 14.627910646977076, 14.627910646977076, 13.511466353255454, 13.133169179830908, 12.845926745390377, 12.763406313261704, 12.75342359255121, 12.662414289073585, 12.477526298298978, 12.292420402221225, 11.258563927589774, 10.788042820329451, 10.78800928904013, 10.60312444036315, 10.603110705035093, 52.404597329130105, 29.48889457298168, 16.6746857828123, 25.63717625111059, 88.33381503714489, 25.256309573820648, 23.354897327211983, 29.793714220054767, 120.05565441332085, 81.95264976622263, 20.93753706697883, 44.33783739905925, 20.861783427271437, 43.69124512125039, 19.95775504438384, 23.601763022957783, 16.919913114082988, 148.62925017654933, 35.51743495518384, 30.194864391947444, 23.886530872739066, 21.97489428171763, 21.765314158457308, 21.549370385554063, 23.249907886577027, 19.56772023891465, 18.358650812675837, 17.578531990554648, 16.231999203234164, 14.52225081939071, 13.399233916208765, 11.682011051976579, 11.556170424093008, 11.270362136497997, 11.124243585931211, 20.67317086825845, 10.844769909256371, 10.6277409788762, 10.063540522764447, 9.92379729572798, 9.212414472040404, 9.141498416163145, 9.142521244886051, 8.646085554683046, 8.08184305904261, 7.7262157625276116, 7.72615207486305, 22.241624194683364, 13.493646843640661, 58.51384345357769, 32.843036769329935, 30.767245769424527, 151.95785138694575, 16.645731254791407, 208.24782209211497, 44.91285322931239, 26.453376885912487, 22.4900036463442, 39.28848015140609, 18.151152152372898, 25.137333788615148, 27.707253098797597, 23.350987121706673, 16.748112931831056, 74.10525130279039, 40.69062545277623, 39.61936222595125, 35.363420509775366, 31.506049686991616, 30.765709872049882, 27.222178804212017, 24.81087259070373, 23.922843198561957, 21.678942095639048, 20.86898179634347, 18.83897376900246, 17.64659889775354, 17.32408100049729, 16.35547179282838, 15.793687645169776, 15.793687645169776, 15.71417436219774, 15.617733795573061, 15.380770015993003, 14.667343083540553, 14.104317888235594, 14.104318781723261, 11.597758102802636, 11.200700933131197, 10.78063280096502, 10.7806042694216, 10.621503847513415, 9.748324972497581, 9.590721197298251, 119.99082466846495, 17.16534003756399, 76.8964873922919, 29.22782039616164, 21.424409438299286, 15.58680569653508, 161.19425993274936, 40.912499518233545, 67.41554720733183, 54.639505108284304, 22.82077828989275, 56.821668905139184, 23.17141546824087, 17.0692791395637, 18.34641639740676, 22.329430108410303, 17.969500320329498, 30.021127947088814, 28.455817300197253, 26.996120008247065, 24.451485092263898, 24.258017386461635, 23.079537894995124, 22.078299182202784, 19.828452966681116, 19.731535237616864, 18.55326717273874, 18.05018191940336, 17.867303928831475, 17.770412910131753, 17.18128709796637, 17.181289642537315, 13.15179054705639, 13.151764751499725, 12.756018568716225, 12.562513507061704, 12.562403633428364, 11.876564920779606, 11.276902062092194, 11.19046247786564, 11.190416228837577, 10.69805748388256, 10.50465249188559, 10.012119424585812, 9.915343402472885, 9.91511343118469, 9.326151664801813, 75.28966034616764, 20.070001804073858, 29.89165785713035, 20.058102312003264, 34.616139766284974, 34.36455803788882, 42.562953110109646, 15.242913291316194, 14.058577795051567, 21.503526773360843, 32.723127302920595, 19.406513700576536, 14.588830077398823, 27.221511239193717, 17.64172552068584, 21.664146790990053, 20.089091410619464, 25.124925849158, 21.40029706230906, 24.948521682592258, 42.55549178605727, 37.809184041329, 33.324837193524374, 26.850527143429144, 24.019926213035706, 22.36630499822808, 22.194967908568824, 20.533846291520174, 20.280539107810803, 20.198643322385173, 18.70886473430143, 17.96267294238711, 17.375293499218586, 15.303436852086017, 15.213990422047543, 13.046269571788768, 12.88861099216674, 12.80047682066637, 11.973714327971837, 11.891761813959244, 11.385185584312666, 10.975471404748111, 10.713444410148304, 9.642142431757263, 9.64211896479661, 9.314475468460923, 9.061147311236683, 8.979217450832234, 8.398189224461762, 8.316080313146331, 13.437130203621475, 82.05391732072096, 56.13278571536866, 29.747421807545713, 29.336345474073433, 14.323387182039141, 15.230474332120796, 59.298832649410215, 82.06124748850694, 15.485672207926864, 18.20256589794239, 64.09850331579241, 18.31154535738107, 18.067169278548302, 17.149173042171977], \"Term\": [\"cgt\", \"pepsico\", \"agosto\", \"movilizaci\\u00f3n\", \"docentes\", \"nacional\", \"despidos\", \"trabajadores\", \"represi\\u00f3n\", \"ganancias\", \"lucha\", \"horas\", \"general\", \"hablar\", \"empleo\", \"hacen\", \"tren\", \"k\", \"par\\u00f3\", \"hacer\", \"movilizacion\", \"metro\", \"solidaridad\", \"porte\\u00f1os\", \"d\\u00eda\", \"p\\u00fablico\", \"nadie\", \"mal\", \"trabajo\", \"macri\", \"indeterminado\", \"apoyo\", \"massa\", \"fotos\", \"convoc\\u00f3\", \"serio\", \"amenaza\", \"seguridad\", \"haga\", \"defensa\", \"movilizan\", \"hacemos\", \"muchas\", \"adelante\", \"plata\", \"aut\\u00f3noma\", \"pagan\", \"di\\u00e1logo\", \"doy\", \"sugiere\", \"recibe\", \"rato\", \"v\\u00e1yanse\", \"protestas\", \"ni\\u00f1ez\", \"reducir\", \"alimentaci\\u00f3n\", \"escucha\", \"privada\", \"insiste\", \"cta\", \"toma\", \"despedidos\", \"pepsico\", \"transporte\", \"hecho\", \"mundo\", \"ciudad\", \"docente\", \"gremios\", \"solidaridad\", \"tiempo\", \"cruz\", \"sarmiento\", \"represi\\u00f3n\", \"judiciales\", \"trabajadores\", \"ma\\u00f1ana\", \"hoy\", \"ahora\", \"santa\", \"nacional\", \"movilizaci\\u00f3n\", \"d\\u00edas\", \"salarios\", \"trabajo\", \"cgt\", \"general\", \"docentes\", \"gobierno\", \"marcha\", \"horas\", \"tren\", \"vidal\", \"sino\", \"anuncia\", \"video\", \"bitlyumdwrq\", \"eldiario\", \"pro\", \"carpa\", \"obelisco\", \"pagar\", \"indefinida\", \"motivo\", \"zurdos\", \"buenos\", \"sanitaria\", \"cicop\", \"adhieran\", \"aires\", \"alg\\u00fan\", \"veces\", \"proyecto\", \"pol\\u00edtico\", \"representan\", \"pens\\u00e9\", \"repudiar\", \"justo\", \"vuelven\", \"\\u00e9xito\", \"puntos\", \"mes\", \"jueves\", \"medio\", \"medidas\", \"d\\u00eda\", \"pol\\u00edtica\", \"paritarias\", \"maestros\", \"docentes\", \"quiero\", \"porte\\u00f1os\", \"argentina\", \"respuesta\", \"solidaridad\", \"sutep\", \"sarmiento\", \"movilizaci\\u00f3n\", \"huelga\", \"trabajadores\", \"pepsico\", \"horas\", \"gobierno\", \"hoy\", \"van\", \"nadie\", \"mal\", \"cerebral\", \"diarrea\", \"votos\", \"poceta\", \"importa\", \"ratas\", \"feriado\", \"cambiemos\", \"representa\", \"joda\", \"mayor\", \"elecciones\", \"queda\", \"tres\", \"empresarios\", \"ojal\\u00e1\", \"triunvirato\", \"ahi\", \"examen\", \"gordos\", \"ud\", \"anterior\", \"lima\", \"agarr\\u00f3\", \"piedras\", \"normalmente\", \"\\u00bfla\", \"afiliados\", \"dice\", \"mano\", \"paso\", \"hora\", \"mas\", \"cgt\", \"marcha\", \"par\\u00f3\", \"nacional\", \"llamar\", \"macrireprimepepsico\", \"represionenpepsico\", \"gobierno\", \"ahora\", \"macri\", \"hacer\", \"general\", \"van\", \"hoy\", \"gente\", \"status\", \"trabajo\", \"cristina\", \"metro\", \"seguir\", \"datos\", \"atus\", \"trabajando\", \"bolsa\", \"apostando\", \"excelentes\", \"daer\", \"anuncio\", \"cusco\", \"seg\\u00fan\", \"central\", \"mecanismo\\u2026\", \"marchas\", \"repudio\", \"twittercomzetaorlandost\", \"reino\", \"hacian\", \"conflicto\", \"oferta\", \"alerta\", \"mecanismo\", \"gremialistas\", \"acatar\", \"aplausos\", \"putean\", \"interna\", \"unicos\", \"quiera\", \"taxistas\", \"salarial\", \"empleo\", \"galapagar\", \"regional\", \"aumento\", \"bajo\", \"docentes\", \"adhesi\\u00f3n\", \"izquierda\", \"gobierno\", \"porte\\u00f1os\", \"ahora\", \"trabajadores\", \"pa\\u00eds\", \"santa\", \"d\\u00eda\", \"sobrero\", \"pena\", \"compa\\u00f1ero\", \"grande\", \"haber\", \"palos\", \"polic\\u00eda\", \"represion\", \"encamina\", \"desobediencia\", \"pas\\u00f3\", \"laburo\", \"pollo\", \"owlyqpdsred\", \"culo\", \"verdad\", \"pelotas\", \"gral\", \"pasar\", \"dando\", \"necesita\", \"vagos\", \"cardiaco\", \"hago\", \"decretar\", \"k\", \"paguen\", \"ajena\", \"declar\\u00f3\", \"ves\", \"indefinido\", \"traidores\", \"dicen\", \"hdp\", \"deber\\u00eda\", \"oposici\\u00f3n\", \"\\u201c\", \"mientras\", \"cualquier\", \"general\", \"van\", \"acto\", \"macri\", \"hacer\", \"par\\u00f3\", \"hacen\", \"pepsico\", \"cgt\", \"a\\u00f1os\", \"gobierno\", \"dijo\", \"ministerio\", \"acatan\", \"asinosepuedeseguir\", \"creer\", \"derechos\", \"viernes\", \"pe\\u00f1a\", \"exigen\", \"\\u25ba\", \"calles\", \"quemaron\", \"eval\\u00faan\", \"expedientes\", \"juliaca\", \"owlyegpadcawl\", \"+d\\u00edas\", \"kuczynski\", \"estatales\", \"fuerza\", \"wpmepjxjrwtp\", \"falso\", \"actividades\", \"\\u00bf\", \"consejo\", \"vuelta\", \"vienen\", \"incumplimiento\", \"entienden\", \"s\\u00faper\", \"matar\", \"p\\u00fablico\", \"pago\", \"medida\", \"llama\", \"horas\", \"mejoras\", \"salariales\", \"falta\", \"trabajadores\", \"nacional\", \"pueblo\", \"huelga\", \"m\\u00e9dicos\", \"gobierno\", \"sindicato\", \"trabajo\", \"mil\", \"agosto\", \"convoca\", \"documento\", \"l\\u00ednea\", \"cr\\u00edtico\", \"decidi\\u00f3\", \"dijeron\", \"mismo\", \"interrumpir\", \"contin\\u00faa\", \"invierno\", \"sindicales\", \"llamen\", \"soretes\", \"acampe\", \"maduro\", \"mucha\", \"viedma\", \"viven\", \"encima\", \"descenso\", \"muerto\", \"despues\", \"n\", \"portal\", \"cagan\", \"disposici\\u00f3n\", \"municipio\", \"meter\", \"ceos\", \"har\\u00e1\", \"lunes\", \"movilizacion\", \"siquiera\", \"ate\", \"movilizaci\\u00f3n\", \"jornada\", \"cgt\", \"hacer\", \"bien\", \"vacaciones\", \"general\", \"gran\", \"empleo\", \"trabajo\", \"despidos\", \"macrireprimepepsico\", \"hablar\", \"anunciar\", \"opositor\", \"t\\u00e9lam\", \"apuro\", \"total\", \"fecha\", \"s\\u00f3lo\", \"basta\", \"salvaje\", \"casi\", \"generar\", \"publicidad\", \"queremos\", \"sueldos\", \"rofrentealosdespidosylarepresionmovilizacionsinparoparaeldeagosto\", \"laizquierdadiariocomlacgtsinapu\", \"pedido\", \"convocar\", \"fin\", \"elecci\\u00f3n\", \"lanzan\", \"bitlyufcn\", \"llam\\u00f3\", \"paros\", \"acusa\", \"psoe\", \"ganas\", \"despidieron\", \"lashs\", \"despidos\", \"ojo\", \"represi\\u00f3n\", \"frente\", \"laboral\", \"choferes\", \"cgt\", \"d\\u00edas\", \"movilizaci\\u00f3n\", \"general\", \"anunci\\u00f3\", \"trabajadores\", \"salarios\", \"dos\", \"argentina\", \"gobierno\", \"nuevo\", \"\\u00fanico\", \"hicieron\", \"miedo\", \"resistencia\", \"mantiene\", \"latente\", \"plan\", \"carajo\", \"m\\u00ednimo\", \"politico\", \"cambio\", \"costo\", \"lleven\", \"agencianovacomnotaaspn__idid_tiponota\", \"corporaciones\", \"encanta\", \"cuanto\", \"troskos\", \"anunciaron\", \"tiempos\", \"amerita\", \"vida\", \"eh\", \"quitar\", \"tb\", \"oreja\", \"navarro\", \"controla\", \"region\", \"yendo\", \"lucha\", \"moyano\", \"mierda\", \"mejor\", \"venezuela\", \"petrolero\", \"solo\", \"parte\", \"tan\", \"vayan\", \"a\\u00f1os\", \"cfk\", \"servicio\", \"tiempo\", \"cada\", \"nuevo\", \"ser\", \"trabajo\", \"macri\", \"gobierno\", \"puta\", \"hac\\u00edan\", \"madre\", \"hagan\", \"verg\\u00fcenza\", \"nueva\", \"hijos\", \"vas\", \"manga\", \"impuesto\", \"mira\", \"propuesta\", \"reclamos\", \"levantan\", \"ustedes\", \"afecta\", \"telam\", \"podr\\u00eda\", \"semanas\", \"quedan\", \"esperan\", \"cuantos\", \"cabeza\", \"trabajadora\", \"pidieron\", \"golpe\", \"tibios\", \"llevar\", \"tarea\", \"agreden\", \"seguro\", \"ganancias\", \"hacen\", \"cristina\", \"dirigentes\", \"nunca\", \"a\\u00f1o\", \"trabajo\", \"trabajadores\", \"acuerdo\", \"bueno\", \"cgt\", \"trabajador\", \"gente\", \"van\"], \"Total\": [889.0, 354.0, 149.0, 358.0, 252.0, 266.0, 144.0, 478.0, 137.0, 97.0, 88.0, 171.0, 251.0, 74.0, 125.0, 84.0, 79.0, 74.0, 138.0, 125.0, 81.0, 54.0, 92.0, 82.0, 102.0, 58.0, 53.0, 53.0, 232.0, 110.0, 46.325931336465395, 39.946277761462056, 31.540537427509943, 27.26426233768957, 24.034945365802606, 22.373698264732987, 18.09739618318075, 17.780062393651527, 16.949377713582273, 15.174454656561473, 14.866491167161675, 13.51480604365923, 13.30951393800149, 13.20674676554888, 13.093163930902719, 12.88950294963623, 12.7868450575843, 12.786835221397897, 12.786801476845643, 12.16152101844675, 12.058863519762733, 12.058854277047498, 12.05877090651664, 11.95620777022431, 11.95620806912088, 11.853532360302836, 11.63720332516356, 11.433514139813436, 11.228226854463307, 11.228202500390129, 37.82268335021555, 38.983114749203125, 42.68637531100552, 354.4146717491787, 38.537300235693166, 18.57850161192028, 18.676191125498587, 77.42549083719491, 79.34526040722167, 68.29478717498405, 92.04357181441502, 85.3970028902682, 36.602582540105935, 106.87840118848065, 137.1180412633369, 31.818770616996925, 478.7009365940757, 76.95813871127248, 153.26250148015663, 143.07686861211982, 49.13848196614906, 266.9281931766408, 358.3531712791709, 114.45002156106878, 58.866698034260814, 232.17801297061607, 889.0443051722756, 251.38881985279983, 252.49500094242924, 390.33941889367213, 92.88547693671072, 171.38217216260549, 79.10784897109723, 43.14120846676007, 36.694785223121016, 32.38415656571315, 31.465428377534415, 29.115062122759458, 26.116465726092716, 24.400200729509045, 23.86396738288997, 23.863966803846193, 22.85662001960865, 22.129162084398118, 21.524416250850074, 20.80782397772759, 20.198270199971315, 18.333055229459696, 18.23200178012597, 16.918300742523638, 16.91829919681285, 15.881612292523114, 15.265991062148244, 14.44836038619681, 13.731719353929424, 13.419324688722577, 13.318263913184913, 13.318259942761017, 13.116134914458055, 12.500544513921458, 12.399539811451882, 12.399525906181276, 45.798965540022714, 37.445554919730135, 37.09242707495056, 55.95234060827487, 102.47966820349153, 50.51998938163927, 50.336844257363644, 46.93066450141058, 252.49500094242924, 35.27337894076255, 82.87479576267259, 59.225975129889534, 35.009699883697245, 92.04357181441502, 33.689889967023326, 106.87840118848065, 358.3531712791709, 108.23401980580884, 478.7009365940757, 354.4146717491787, 171.38217216260549, 390.33941889367213, 153.26250148015663, 136.9585858077232, 53.90232416099419, 53.593255677551, 31.514160223271457, 30.976381532307638, 28.772702151869886, 21.591556818781953, 18.3799878926802, 16.456401133793793, 16.304703637064847, 16.304703699074235, 15.918592062018515, 14.843048388431306, 14.297141386796373, 13.759334597869323, 12.994048542850278, 12.22183150564999, 11.6082187258578, 11.297942315276584, 10.835993222817882, 10.532666821751185, 10.365927772986721, 10.298215445478483, 10.146551299843818, 9.760449445400154, 9.517852850479006, 9.222663420298144, 9.222664290294391, 9.222666437053007, 9.222664843109897, 9.22268515286779, 41.80891194802503, 19.378708765803236, 30.576241624314864, 19.941307599006855, 51.18983277237802, 889.0443051722756, 92.88547693671072, 138.96729587456923, 266.9281931766408, 56.77863504436218, 47.2970111417505, 43.98066541038643, 390.33941889367213, 143.07686861211982, 110.30071796912769, 125.04563139961357, 251.38881985279983, 136.9585858077232, 153.26250148015663, 72.11221553171636, 35.8031743252939, 232.17801297061607, 50.698269031533044, 54.07838168060411, 47.901610447635406, 40.85700769431215, 38.07330279049449, 36.79868521300962, 34.76952537158305, 34.76952537158305, 34.76952537158305, 34.740574878428156, 33.81573716522754, 29.418970408486203, 25.694045772077835, 23.55167411258575, 22.489278622680214, 22.28039077606216, 21.83832103556939, 20.251218739787078, 18.651142222351787, 18.210715943451156, 15.653535965407423, 14.045477889304921, 13.520744677455527, 13.19363593045715, 12.343413700113759, 12.132906697912121, 11.702173526320905, 11.702153203430033, 11.702148710441401, 11.596894773749314, 11.491610495577133, 17.45524032293375, 67.12686497732713, 125.65728313289405, 43.34406958536296, 22.65211120874964, 39.64914116868063, 17.956787717289565, 252.49500094242924, 47.47118501340966, 52.766545185069525, 390.33941889367213, 82.87479576267259, 143.07686861211982, 478.7009365940757, 43.12407307874736, 49.13848196614906, 102.47966820349153, 43.815157775487954, 41.377659860917724, 27.38274044898603, 24.40904913058915, 24.230389129079025, 23.607524655152098, 22.212060546981565, 22.013417708003338, 20.892607949483565, 20.892607949483565, 19.744200776977863, 19.74419567207165, 17.708561987817898, 17.549607698185252, 17.371001281954847, 17.188234297505595, 16.842729602751866, 15.33535789864992, 14.286774160803983, 13.498360810713125, 13.403686734939468, 12.701995977818465, 12.61527823366843, 12.528558182779104, 12.173717084484949, 74.05732081283311, 11.558758299892, 11.472034302483767, 11.472036566261382, 11.030496755687507, 36.100272367149955, 56.088001498463086, 19.059835723893936, 34.43919772453111, 17.003690419525, 46.086527391485205, 50.969742810672976, 37.67342364456369, 19.135158601775476, 251.38881985279983, 136.9585858077232, 33.410850976656185, 110.30071796912769, 125.04563139961357, 138.96729587456923, 84.20949061282022, 354.4146717491787, 889.0443051722756, 68.9905903744423, 390.33941889367213, 38.230560812693916, 43.58453594338766, 38.03527427636381, 28.589028483362096, 28.404126128100856, 28.02437735882559, 26.435760002427063, 25.679213645689543, 25.197081796283666, 22.20769916754901, 19.48278939984045, 18.45883132060281, 18.553511902923532, 17.895653998944518, 17.240024163943648, 17.240024163943648, 15.446622806860356, 15.446622806860356, 14.330208116623757, 13.951930445044688, 13.66463824088599, 13.582126161284043, 13.57218176702983, 13.481203757225042, 13.296305169725763, 13.111367857102277, 12.077468553703024, 11.606771037417007, 11.606766974599811, 11.4218662839862, 11.421864971752564, 58.16308687528953, 34.98586383351341, 18.839237755621998, 31.872755598363565, 171.38217216260549, 34.13764281750056, 34.41559764192811, 52.15773613180335, 478.7009365940757, 266.9281931766408, 30.694315220361517, 108.23401980580884, 31.67073533397261, 390.33941889367213, 49.70653138643728, 232.17801297061607, 37.68298360368127, 149.47116020264698, 36.35938654174348, 31.03675571383335, 24.72862249821717, 22.81679015504883, 22.607206645471514, 22.39122705580209, 24.19788029224827, 20.409571317578653, 19.200548487448337, 18.420412841844996, 17.073893382445846, 15.36417196950242, 14.241127108826086, 12.523890597509515, 12.398081880355358, 12.112239470553941, 11.96613017629083, 22.255813955869076, 11.686693623000926, 11.469588819527369, 10.905440875481482, 10.765725833418665, 10.054332889678626, 9.983347695480003, 9.984489564131442, 9.487933395334213, 8.923808592930211, 8.568086992130416, 8.568113434272679, 27.344378670177115, 15.841973245729905, 81.0103402122368, 42.68350788964508, 41.5257401086996, 358.3531712791709, 21.914782142259654, 889.0443051722756, 125.04563139961357, 61.583641739547694, 49.56145522252298, 251.38881985279983, 41.95551359970983, 125.65728313289405, 232.17801297061607, 144.10237839815392, 47.2970111417505, 74.93738431729929, 41.52271969375765, 40.45153668585341, 36.195509536903266, 32.33813127160082, 31.59785870336396, 28.054303132448748, 25.642994848818294, 24.754973702026202, 22.51101725814338, 21.701144527787598, 19.671060417555022, 18.478674782648323, 18.156312912710675, 17.18762862871963, 16.62575994514658, 16.62575994514658, 16.546373603037097, 16.449882451810833, 16.2129263328996, 15.499519155458858, 14.936391566798502, 14.936392942048185, 12.429875885115276, 12.032843901304538, 11.61272438161657, 11.612727585121924, 11.453935884355195, 10.580422997201769, 10.422886658397626, 144.10237839815392, 20.644661079141727, 137.1180412633369, 44.090695220237954, 31.103391835802903, 19.812958322789513, 889.0443051722756, 114.45002156106878, 358.3531712791709, 251.38881985279983, 41.41338435649078, 478.7009365940757, 58.866698034260814, 27.37035237287838, 59.225975129889534, 390.33941889367213, 60.3855565411303, 30.83568486681238, 29.27030118902977, 27.81048187156289, 25.265816680477403, 25.072353512073644, 23.893867781180013, 22.892679655876403, 20.642827358388235, 20.54607773638156, 19.367620657249134, 18.864681315250007, 18.68164595854706, 18.58490639184067, 17.995668118848435, 17.99567587490077, 13.966151961180651, 13.966151418316848, 13.570374470336258, 13.376918050953895, 13.37691592281183, 12.69093349481058, 12.09129328499927, 12.004951034570944, 12.00493177066115, 11.512448708896338, 11.318993332630512, 10.826478919661902, 10.729753071337147, 10.72976943272664, 10.140501121635491, 88.16003418556886, 22.610482227016067, 35.1351002273105, 23.228466410845964, 44.027977828684854, 44.99049683088431, 60.564044247878776, 18.28251760658559, 16.6180054389629, 33.21978077981237, 68.9905903744423, 32.11828922641534, 18.35809377232903, 85.3970028902682, 31.502042934114147, 60.3855565411303, 60.08929940491558, 232.17801297061607, 110.30071796912769, 390.33941889367213, 43.38503838517672, 38.638700182968606, 34.15446454778753, 27.680084333736044, 24.84945366764449, 23.19585051043654, 23.02448365793974, 21.363377173948994, 21.110081234250984, 21.02815462036145, 19.538410926496173, 18.792234610109414, 18.20506826526651, 16.13295749815469, 16.0435288993035, 13.87585018214543, 13.718163570363886, 13.630042266183187, 12.8032393952661, 12.721310315368662, 12.214724718285416, 11.805085119235894, 11.542977299147243, 10.471689607399282, 10.471695556693904, 10.143967509400575, 9.890674975821323, 9.808751243837335, 9.227729828970709, 9.145817829279919, 14.894298209604694, 97.55055177504883, 84.20949061282022, 50.698269031533044, 54.26162478737329, 19.279766392991757, 21.450414802032885, 232.17801297061607, 478.7009365940757, 23.512337090565936, 34.512905105815065, 889.0443051722756, 38.63705923717504, 72.11221553171636, 136.9585858077232], \"loglift\": [30.0, 29.0, 28.0, 27.0, 26.0, 25.0, 24.0, 23.0, 22.0, 21.0, 20.0, 19.0, 18.0, 17.0, 16.0, 15.0, 14.0, 13.0, 12.0, 11.0, 10.0, 9.0, 8.0, 7.0, 6.0, 5.0, 4.0, 3.0, 2.0, 1.0, 1.9837, 1.9808, 1.9753, 1.9712, 1.9671, 1.9645, 1.9556, 1.9548, 1.9524, 1.9465, 1.9454, 1.9396, 1.9386, 1.9381, 1.9376, 1.9365, 1.936, 1.936, 1.936, 1.9325, 1.9319, 1.9319, 1.9319, 1.9313, 1.9313, 1.9306, 1.9293, 1.928, 1.9266, 1.9266, 1.9212, 1.8567, 1.8416, 1.6675, 1.8021, 1.8782, 1.8772, 1.564, 1.5053, 1.5271, 1.3866, 1.4008, 1.6061, 1.2545, 1.1663, 1.6038, 0.4793, 1.2224, 0.9328, 0.8953, 1.3876, 0.5374, 0.2778, 0.868, 1.2291, 0.3414, -0.59, 0.1278, 0.0054, -0.3597, 0.7993, 0.2087, 2.0611, 2.0525, 2.0491, 2.0461, 2.0453, 2.0432, 2.0399, 2.0376, 2.0369, 2.0369, 2.0353, 2.0341, 2.033, 2.0317, 2.0305, 2.0262, 2.026, 2.0223, 2.0223, 2.0191, 2.0169, 2.0137, 2.0106, 2.0091, 2.0087, 2.0086, 2.0077, 2.0044, 2.0039, 2.0038, 2.0017, 1.9789, 1.9756, 1.8208, 1.7363, 1.8278, 1.8158, 1.7821, 1.353, 1.8011, 1.5437, 1.6031, 1.7437, 1.2763, 1.7423, 1.1458, 0.4122, 1.0717, 0.1678, 0.2321, 0.6418, -0.1627, 0.4902, 0.519, 2.2231, 2.223, 2.2119, 2.2114, 2.2093, 2.1993, 2.1922, 2.1866, 2.1861, 2.1861, 2.1848, 2.1808, 2.1785, 2.1761, 2.1723, 2.1679, 2.164, 2.1619, 2.1585, 2.1561, 2.1547, 2.1541, 2.1528, 2.1492, 2.1468, 2.1437, 2.1437, 2.1437, 2.1437, 2.1437, 2.0837, 2.0934, 2.0333, 2.0636, 1.9428, 1.2495, 1.6845, 1.5339, 1.3698, 1.7385, 1.7763, 1.7188, 0.9575, 1.2502, 1.3013, 1.0938, 0.732, 0.8718, 0.7244, 1.1791, 1.6003, 0.0329, 1.1337, 2.2732, 2.2712, 2.2683, 2.2668, 2.2661, 2.2648, 2.2648, 2.2648, 2.2647, 2.2641, 2.2604, 2.2564, 2.2534, 2.2517, 2.2514, 2.2506, 2.2476, 2.2441, 2.243, 2.2354, 2.2291, 2.2268, 2.2252, 2.2207, 2.2195, 2.2169, 2.2169, 2.2169, 2.2162, 2.2155, 2.1721, 2.0057, 1.9069, 2.0443, 2.0958, 1.9763, 2.1249, 1.3053, 1.7842, 1.6234, 0.6277, 1.3759, 0.5932, -0.4939, 1.4921, 1.359, 0.634, 2.307, 2.3058, 2.2954, 2.2916, 2.2913, 2.2904, 2.2881, 2.2878, 2.2857, 2.2857, 2.2833, 2.2833, 2.2783, 2.2779, 2.2773, 2.2768, 2.2758, 2.2707, 2.2665, 2.2629, 2.2625, 2.2589, 2.2584, 2.2579, 2.2558, 2.2527, 2.252, 2.2514, 2.2514, 2.2483, 2.2209, 2.038, 2.1761, 2.0595, 2.1818, 1.8911, 1.7793, 1.87, 2.1067, 0.9365, 1.214, 1.8427, 1.1521, 1.0255, 0.9058, 1.2009, 0.2317, -0.4058, 1.1953, -0.2091, 1.6615, 2.3211, 2.3183, 2.311, 2.3108, 2.3104, 2.3086, 2.3077, 2.3071, 2.3025, 2.2972, 2.2947, 2.2935, 2.2933, 2.2914, 2.2914, 2.2856, 2.2856, 2.2813, 2.2796, 2.2783, 2.2779, 2.2779, 2.2774, 2.2765, 2.2756, 2.2699, 2.2669, 2.2669, 2.2657, 2.2657, 2.2358, 2.1692, 2.218, 2.1224, 1.6773, 2.0388, 1.9524, 1.7801, 0.957, 1.1593, 1.9576, 1.4476, 1.9226, 0.1502, 1.4276, 0.0539, 1.5394, 2.3871, 2.3693, 2.3652, 2.3581, 2.3551, 2.3547, 2.3544, 2.3527, 2.3506, 2.3479, 2.3459, 2.3421, 2.3363, 2.3318, 2.3231, 2.3224, 2.3207, 2.3197, 2.3189, 2.3179, 2.3165, 2.3124, 2.3113, 2.3052, 2.3046, 2.3046, 2.2998, 2.2936, 2.2893, 2.2893, 2.1862, 2.2323, 2.0674, 2.1306, 2.0928, 1.5348, 2.1177, 0.9413, 1.3687, 1.5477, 1.6026, 0.5366, 1.5548, 0.7835, 0.2669, 0.5728, 1.3545, 2.3832, 2.3742, 2.3736, 2.3711, 2.3683, 2.3677, 2.3643, 2.3614, 2.3602, 2.3567, 2.3553, 2.3512, 2.3483, 2.3475, 2.3448, 2.3431, 2.3431, 2.3428, 2.3425, 2.3417, 2.3392, 2.3371, 2.3371, 2.3251, 2.3227, 2.3201, 2.32, 2.3189, 2.3125, 2.3112, 2.2113, 2.2098, 1.816, 1.9833, 2.0216, 2.1545, 0.6869, 1.3657, 0.7238, 0.8682, 1.7985, 0.2632, 1.462, 1.9222, 1.2225, -0.4667, 1.1823, 2.4841, 2.4827, 2.4812, 2.4782, 2.4779, 2.4762, 2.4747, 2.4707, 2.4705, 2.468, 2.4668, 2.4663, 2.4661, 2.4646, 2.4646, 2.4508, 2.4508, 2.449, 2.4481, 2.4481, 2.4446, 2.4412, 2.4407, 2.4407, 2.4375, 2.4362, 2.4327, 2.432, 2.4319, 2.4272, 2.3531, 2.3917, 2.3493, 2.3642, 2.2704, 2.2415, 2.1582, 2.3291, 2.3437, 2.076, 1.765, 2.0071, 2.2811, 1.3676, 1.9311, 1.4858, 1.4153, 0.2873, 0.8711, -0.2393, 2.5983, 2.5959, 2.593, 2.5872, 2.5836, 2.5812, 2.5809, 2.578, 2.5775, 2.5773, 2.5742, 2.5724, 2.5709, 2.5648, 2.5645, 2.5559, 2.5552, 2.5548, 2.5506, 2.5502, 2.5473, 2.5447, 2.543, 2.5351, 2.5351, 2.5323, 2.53, 2.5292, 2.5234, 2.5225, 2.5146, 2.4446, 2.212, 2.0844, 2.0026, 2.3204, 2.2751, 1.2527, 0.854, 2.2, 1.9778, -0.0121, 1.8709, 1.2335, 0.5399], \"logprob\": [30.0, 29.0, 28.0, 27.0, 26.0, 25.0, 24.0, 23.0, 22.0, 21.0, 20.0, 19.0, 18.0, 17.0, 16.0, 15.0, 14.0, 13.0, 12.0, 11.0, 10.0, 9.0, 8.0, 7.0, 6.0, 5.0, 4.0, 3.0, 2.0, 1.0, -4.4652, -4.6162, -4.858, -5.0079, -5.138, -5.2122, -5.4333, -5.4518, -5.502, -5.6185, -5.6401, -5.7412, -5.7575, -5.7658, -5.775, -5.7917, -5.8002, -5.8002, -5.8002, -5.8538, -5.8629, -5.8629, -5.863, -5.8721, -5.8721, -5.8814, -5.9011, -5.9201, -5.9396, -5.9396, -4.7305, -4.7648, -4.6891, -2.7467, -4.8309, -5.4844, -5.4801, -4.3713, -4.4055, -4.5337, -4.3758, -4.4365, -5.0784, -4.3585, -4.1975, -5.2207, -3.6342, -4.719, -4.3197, -4.4259, -5.0024, -4.1602, -4.1253, -4.6765, -4.9803, -4.4958, -4.0845, -4.6298, -4.7479, -4.6773, -4.9539, -4.9321, -3.8527, -4.4677, -4.6329, -4.7609, -4.7904, -4.8702, -4.9822, -5.0524, -5.0754, -5.0754, -5.1201, -5.1536, -5.1824, -5.2176, -5.2486, -5.3497, -5.3555, -5.4339, -5.4339, -5.5004, -5.5421, -5.6003, -5.6543, -5.6788, -5.6868, -5.6868, -5.7031, -5.7545, -5.7631, -5.7631, -4.4587, -4.6828, -4.6956, -4.4394, -3.9186, -4.5345, -4.55, -4.6538, -3.4002, -4.9204, -4.3236, -4.6001, -4.9853, -4.4861, -5.0252, -4.4672, -3.9909, -4.5286, -3.9457, -4.182, -4.4989, -4.4803, -4.7623, -4.8459, -4.0743, -4.0802, -4.6223, -4.64, -4.7159, -5.0131, -5.1812, -5.2973, -5.307, -5.3071, -5.3323, -5.4063, -5.4461, -5.4868, -5.5479, -5.6135, -5.6689, -5.6981, -5.7433, -5.7741, -5.7914, -5.7986, -5.8147, -5.8571, -5.8846, -5.9192, -5.9192, -5.9192, -5.9192, -5.9192, -4.4678, -5.227, -4.8311, -5.2282, -4.4063, -2.2449, -4.0688, -3.8165, -3.3279, -4.507, -4.6519, -4.7821, -3.3601, -4.0711, -4.2801, -4.3621, -4.0256, -4.4931, -4.5281, -4.8273, -5.1062, -4.8043, -5.225, -4.021, -4.1442, -4.3063, -4.3783, -4.4131, -4.4711, -4.4711, -4.4711, -4.472, -4.4996, -4.6425, -4.782, -4.872, -4.9199, -4.9295, -4.9503, -5.0288, -5.1147, -5.1397, -5.2986, -5.4132, -5.4536, -5.4797, -5.5508, -5.5692, -5.608, -5.608, -5.608, -5.6177, -5.6275, -5.2529, -4.0723, -3.5442, -4.4711, -5.0686, -4.6283, -5.2718, -3.4479, -4.6403, -4.6954, -3.6899, -4.4914, -4.7281, -4.6074, -5.0285, -5.031, -5.021, -4.1977, -4.256, -4.6793, -4.7981, -4.8057, -4.8326, -4.8958, -4.9052, -4.9595, -4.9595, -5.0185, -5.0185, -5.1323, -5.1417, -5.1525, -5.1636, -5.1849, -5.2838, -5.3588, -5.4191, -5.4266, -5.484, -5.4913, -5.4987, -5.5295, -3.7271, -5.5852, -5.5933, -5.5933, -5.6357, -4.4774, -4.2197, -5.161, -4.6859, -5.2694, -4.563, -4.5741, -4.7857, -5.2264, -3.8211, -4.1509, -4.933, -4.4293, -4.4305, -4.4445, -4.6504, -4.1825, -3.9003, -4.8553, -4.5267, -4.9794, -4.1888, -4.3278, -4.6206, -4.6273, -4.6411, -4.7013, -4.7313, -4.7508, -4.8817, -5.0179, -5.0744, -5.0705, -5.1068, -5.146, -5.146, -5.2616, -5.2616, -5.341, -5.3694, -5.3915, -5.398, -5.3987, -5.4059, -5.4206, -5.4356, -5.5234, -5.5661, -5.5661, -5.5834, -5.5834, -3.9855, -4.5605, -5.1306, -4.7005, -3.4634, -4.7155, -4.7937, -4.5502, -3.1566, -3.5384, -4.903, -4.1527, -4.9066, -4.1674, -4.9509, -4.7832, -5.116, -2.8905, -4.3219, -4.4843, -4.7186, -4.802, -4.8116, -4.8216, -4.7456, -4.918, -4.9818, -5.0252, -5.1049, -5.2162, -5.2967, -5.4339, -5.4447, -5.4698, -5.4828, -4.8631, -5.5082, -5.5285, -5.583, -5.597, -5.6714, -5.6791, -5.679, -5.7348, -5.8023, -5.8473, -5.8473, -4.79, -5.2897, -3.8227, -4.4002, -4.4655, -2.8683, -5.0798, -2.5532, -4.0872, -4.6165, -4.7789, -4.221, -4.9932, -4.6676, -4.5702, -4.7413, -5.0736, -3.5847, -4.1842, -4.2109, -4.3245, -4.44, -4.4638, -4.5862, -4.6789, -4.7154, -4.8139, -4.852, -4.9543, -5.0197, -5.0381, -5.0957, -5.1306, -5.1306, -5.1357, -5.1418, -5.1571, -5.2046, -5.2437, -5.2437, -5.4394, -5.4742, -5.5125, -5.5125, -5.5273, -5.6131, -5.6294, -3.1028, -5.0473, -3.5478, -4.5151, -4.8257, -5.1438, -2.8076, -4.1788, -3.6793, -3.8895, -4.7626, -3.8503, -4.7473, -5.0529, -4.9808, -4.7843, -5.0015, -4.3718, -4.4254, -4.478, -4.577, -4.585, -4.6348, -4.6791, -4.7866, -4.7915, -4.8531, -4.8806, -4.8907, -4.8962, -4.9299, -4.9299, -5.1972, -5.1972, -5.2277, -5.243, -5.243, -5.2991, -5.351, -5.3587, -5.3587, -5.4037, -5.4219, -5.4699, -5.4796, -5.4797, -5.5409, -3.4524, -4.7745, -4.3761, -4.7751, -4.2294, -4.2367, -4.0227, -5.0496, -5.1305, -4.7055, -4.2856, -4.8081, -5.0935, -4.4697, -4.9034, -4.6981, -4.7735, -4.5499, -4.7103, -4.5569, -3.9162, -4.0345, -4.1607, -4.3768, -4.4882, -4.5595, -4.5672, -4.645, -4.6574, -4.6614, -4.738, -4.7787, -4.812, -4.939, -4.9448, -5.0985, -5.1107, -5.1176, -5.1843, -5.1912, -5.2347, -5.2714, -5.2955, -5.4009, -5.4009, -5.4355, -5.463, -5.4721, -5.539, -5.5488, -5.069, -3.2597, -3.6393, -4.2743, -4.2882, -5.0051, -4.9437, -3.5844, -3.2596, -4.9271, -4.7655, -3.5066, -4.7595, -4.7729, -4.8251]}, \"token.table\": {\"Topic\": [6, 7, 6, 4, 6, 2, 3, 5, 4, 5, 10, 8, 1, 1, 4, 2, 10, 3, 3, 9, 7, 10, 3, 1, 3, 4, 8, 9, 2, 5, 4, 2, 1, 1, 9, 3, 2, 8, 9, 4, 2, 7, 8, 4, 4, 1, 8, 2, 6, 8, 6, 2, 7, 4, 1, 4, 1, 8, 9, 10, 5, 9, 10, 4, 6, 8, 3, 5, 6, 7, 9, 8, 2, 4, 2, 10, 2, 10, 5, 9, 7, 6, 3, 9, 9, 5, 2, 8, 4, 7, 3, 5, 9, 1, 3, 5, 7, 8, 10, 1, 8, 2, 1, 2, 5, 5, 4, 6, 7, 9, 7, 8, 1, 9, 9, 6, 1, 3, 10, 1, 4, 7, 1, 7, 1, 5, 9, 10, 5, 4, 4, 5, 4, 4, 5, 7, 5, 5, 1, 6, 7, 5, 1, 8, 8, 7, 8, 7, 3, 3, 9, 5, 6, 7, 3, 5, 10, 2, 10, 7, 1, 1, 2, 4, 5, 1, 2, 4, 7, 4, 8, 10, 1, 2, 4, 8, 9, 10, 1, 2, 3, 5, 8, 9, 2, 3, 8, 4, 7, 9, 10, 3, 5, 9, 7, 6, 1, 10, 6, 6, 3, 4, 6, 6, 6, 2, 6, 8, 8, 3, 8, 1, 4, 7, 8, 6, 4, 7, 3, 10, 8, 1, 3, 5, 7, 8, 8, 1, 3, 4, 5, 6, 7, 10, 1, 2, 3, 4, 5, 6, 7, 8, 9, 10, 3, 5, 1, 4, 7, 5, 4, 1, 2, 4, 5, 8, 1, 5, 10, 3, 5, 6, 7, 4, 10, 1, 10, 5, 7, 10, 5, 7, 1, 5, 9, 10, 3, 7, 1, 2, 4, 6, 7, 1, 2, 3, 4, 5, 6, 7, 8, 2, 3, 4, 5, 6, 9, 3, 10, 6, 2, 5, 6, 1, 1, 4, 7, 7, 1, 3, 4, 5, 3, 2, 7, 1, 6, 1, 2, 6, 2, 5, 8, 6, 1, 7, 8, 9, 5, 8, 8, 8, 9, 10, 3, 5, 6, 8, 3, 7, 9, 7, 8, 10, 9, 4, 9, 2, 7, 7, 3, 5, 9, 10, 3, 7, 10, 7, 1, 2, 4, 3, 10, 3, 7, 9, 1, 3, 5, 10, 4, 3, 5, 6, 1, 6, 3, 1, 2, 3, 5, 6, 10, 4, 4, 6, 10, 1, 2, 2, 9, 3, 9, 2, 6, 2, 4, 7, 4, 9, 3, 5, 5, 9, 2, 4, 6, 9, 6, 10, 7, 2, 5, 7, 8, 1, 2, 4, 7, 8, 1, 3, 9, 7, 1, 7, 1, 5, 7, 2, 6, 9, 7, 1, 3, 6, 8, 3, 9, 5, 1, 3, 10, 2, 8, 9, 3, 10, 2, 4, 3, 8, 9, 5, 7, 10, 8, 9, 6, 5, 1, 2, 2, 6, 5, 5, 2, 5, 8, 8, 9, 1, 3, 5, 9, 5, 3, 7, 5, 4, 5, 7, 9, 8, 5, 5, 2, 1, 2, 5, 9, 10, 6, 10, 3, 9, 1, 3, 10, 5, 9, 5, 2, 6, 2, 7, 2, 4, 1, 2, 10, 1, 2, 8, 8, 1, 3, 6, 2, 10, 4, 3, 6, 3, 10, 6, 8, 4, 2, 7, 9, 3, 1, 1, 10, 1, 9, 2, 4, 4, 3, 2, 5, 3, 9, 1, 8, 2, 4, 9, 2, 5, 8, 2, 4, 2, 6, 1, 8, 9, 10, 8, 2, 1, 4, 6, 1, 2, 5, 4, 1, 9, 10, 4, 10, 3, 4, 5, 6, 7, 9, 1, 1, 9, 7, 1, 2, 3, 5, 6, 2, 2, 7, 5, 1, 2, 3, 5, 9, 7, 2, 3, 4, 5, 8, 9, 8, 1, 2, 3, 8, 6, 8, 9, 10, 4, 5, 9, 10, 10, 1, 8, 9, 9, 1, 8, 8, 1, 3, 7, 8, 9, 10, 10, 1, 2, 3, 4, 6, 8, 10, 4, 1, 3, 4, 5, 6, 7, 9, 10, 5, 10, 1, 3, 8, 2, 3, 3, 9, 4, 8, 3, 4, 10, 3, 5, 7, 5, 2, 3, 5, 6, 8, 10, 10, 5, 9, 2, 2, 7, 9, 5, 10, 5, 9, 2, 2, 7, 6, 6, 5, 7, 3, 6, 2, 1, 6, 9, 2, 6, 3, 2, 9, 2, 5, 6, 8, 6], \"Freq\": [0.9710860547030387, 0.9581687021752094, 0.9727812064968556, 0.906625285587412, 0.9578415779532367, 0.2993039598718062, 0.08979118796154185, 0.628538315730793, 0.12759259058104083, 0.17012345410805443, 0.6379629529052041, 0.9472368101161053, 0.9086264931878001, 0.37917738929237516, 0.6108969049710489, 0.9457214553341331, 0.9368795302162877, 0.8674263370589425, 0.8674283810892214, 0.9446717892176737, 0.9968478186560658, 0.8747167447823381, 0.9494271649558718, 0.32849474870334633, 0.3704302485378161, 0.18172049928270223, 0.06989249972411624, 0.041935499834469744, 0.9457215417383182, 0.9588534788131197, 0.9614855032116821, 0.9444884891858135, 0.9452442904571658, 0.939361653352064, 0.9455569210024537, 0.9220886856026355, 0.9881375151786452, 0.9874112366046139, 0.9718232518493288, 0.9758769959311621, 0.21732104583694611, 0.21732104583694611, 0.5553760060277512, 0.9399963156637907, 0.9778678206458354, 0.9763112406339153, 0.989543883387666, 0.6247258895924406, 0.05065345050749518, 0.3039207030449711, 0.9793966946549131, 0.24081449177843817, 0.7465249245131583, 0.9718095696504047, 0.2522122725800459, 0.7314155904821332, 0.9309901279272113, 0.09323829018963574, 0.18647658037927148, 0.699287176422268, 0.31888406637189676, 0.4783260995578451, 0.1884314937652117, 0.8353387162647892, 0.1113784955019719, 0.9695021408176892, 0.21109501862491642, 0.0162380783557628, 0.22733309698067922, 0.42219003724983284, 0.11366654849033961, 0.9373079601158525, 0.961701537229838, 0.9778678206458354, 0.4635947032260743, 0.5215440411293336, 0.9406746128204079, 0.9529603771128133, 0.4126716488574796, 0.5713915138026641, 0.9013981077542361, 0.9752196982715214, 0.9199799197118611, 0.9541640115303189, 0.9688595294032228, 0.9512275336087049, 0.9637961547202993, 0.9676908963538856, 0.9765760128155415, 0.9336944546041828, 0.9836847874216309, 0.37361890340444187, 0.5915632637236996, 0.07536182348866967, 0.37230990410074116, 0.06523859346780359, 0.2339590938155715, 0.18109333703993755, 0.07198741348171431, 0.15141605565027116, 0.8075522968014462, 0.9324264118123919, 0.6457821508053029, 0.2066502882576969, 0.12915643016106057, 0.9860225659407948, 0.9582499464113626, 0.9025063614907615, 0.9374732191513616, 0.9319878969734572, 0.9901157149246488, 0.972651327258493, 0.9569399742728292, 0.9446713820685404, 0.9635125320295882, 0.9857722738492897, 0.07889815720359408, 0.3353171681152749, 0.5917361790269556, 0.6830119151458006, 0.3005252426641523, 0.9642022322378201, 0.9253706215373674, 0.05287832123070671, 0.15677946874825704, 0.7838973437412852, 0.9308219287204832, 0.9318018369961567, 0.9786424929724549, 0.9857584951931103, 0.978682710892962, 0.9630799015005144, 0.9790242178104624, 0.11762152513100566, 0.8821614384825425, 0.9731410140583138, 0.9588532896025092, 0.9035859732619532, 0.9226031720320417, 0.963446918170227, 0.9590579203041806, 0.9572763748957617, 0.8433604338084517, 0.14056007230140863, 0.945141796565669, 0.1596087466124338, 0.8327412866735675, 0.9288737382628006, 0.9684798067427826, 0.8610604371803215, 0.11959172738615577, 0.8394615898993273, 0.10493269873741591, 0.9825276634091067, 0.3923562637098293, 0.5231416849464391, 0.0523141684946439, 0.44230153619699225, 0.5344476895713656, 0.9485732693302675, 0.9384652098995393, 0.6049510676964297, 0.18904720865513427, 0.037809441731026856, 0.15123776692410743, 0.13465613130199064, 0.4871383573572014, 0.37228459830550353, 0.9665958735058362, 0.07307176658718595, 0.6211100159910805, 0.2922870663487438, 0.9384676865226708, 0.71233642028432, 0.1951606630915945, 0.0390321326183189, 0.01951606630915945, 0.029274099463739177, 0.32328521651048675, 0.15727388911320977, 0.09611182112473932, 0.05242462970440326, 0.3582349696467556, 0.9162886186143565, 0.9572505048040529, 0.944813130862672, 0.9677719579266477, 0.6844012368868994, 0.19895384793223816, 0.06366523133831621, 0.04774892350373716, 0.9476044740177951, 0.9572763748957617, 0.9308218925394697, 0.941241411373237, 0.9477229984949593, 0.9620839109907717, 0.9005524278032254, 0.9769572002069741, 0.9701667314619657, 0.9646989848858182, 0.9778678206458354, 0.9524912525203524, 0.9499513122573032, 0.9571402772753357, 0.15338089022468088, 0.5751783383425533, 0.2492439466151064, 0.9624192008095436, 0.9199799232106914, 0.925187698507067, 0.9536293217094717, 0.0680415671609319, 0.24948574625675032, 0.6577351492223418, 0.9317707002056632, 0.7844210367242859, 0.20764086266231097, 0.1537664290673613, 0.8405898122349084, 0.9603685677186983, 0.15513816415080178, 0.2227624921139718, 0.2506078036282183, 0.15513816415080178, 0.21878459046907944, 0.9658859053192603, 0.24961096906089716, 0.3466819014734683, 0.027734552117877464, 0.041601828176816194, 0.027734552117877464, 0.041601828176816194, 0.24961096906089716, 0.09478929928437164, 0.10759866405252998, 0.2766822789922199, 0.1895785985687433, 0.07941806156258165, 0.11272240995979331, 0.01793311067542166, 0.056361204979896655, 0.06404682384079165, 0.8872268164955731, 0.8739378242423084, 0.9781317201159391, 0.19067815678117045, 0.3575215439646946, 0.4290258527576335, 0.9832419063765768, 0.9721783852946131, 0.6296234570557477, 0.16106646575844707, 0.21963608967060966, 0.9492212393897369, 0.9874910990577116, 0.9619079961638989, 0.320628943406641, 0.6650081789174777, 0.3198832262453882, 0.2719007423085799, 0.04798248393680822, 0.3598686295260617, 0.9335162907811679, 0.9834699361017808, 0.9439874590309298, 0.9754305541292312, 0.9578117310014472, 0.8045529308001461, 0.14628235105457202, 0.7549537073414502, 0.20325676736115966, 0.8612104643430517, 0.05382565402144073, 0.9566010209178898, 0.9555045979245463, 0.852501768783039, 0.10029432573918105, 0.16921246611628382, 0.2392314176126771, 0.046679300997595534, 0.5134723109735508, 0.02917456312349721, 0.3458119206468914, 0.20879210303208537, 0.2218416094715907, 0.006524753219752668, 0.09134654507653735, 0.06524753219752667, 0.032623766098763336, 0.032623766098763336, 0.36956956853092165, 0.027717717639819124, 0.1108708705592765, 0.036956956853092165, 0.4065265253840138, 0.04619619606636521, 0.97932599874935, 0.9511058084304796, 0.947722666755384, 0.9489740244076291, 0.8864199049400784, 0.08310186608813235, 0.992964386747065, 0.8906145039379674, 0.9399983090443126, 0.9799323899945958, 0.977176795902752, 0.22741682173642555, 0.17056261630231917, 0.5116878489069575, 0.05685420543410639, 0.9432024765823455, 0.2281565003723302, 0.7757321012659227, 0.6599877868562979, 0.314279898502999, 0.08011631838360858, 0.9079849416808972, 0.9280729451332745, 0.914903672328978, 0.9317107241076867, 0.05401221589030068, 0.9710860547030387, 0.06430166878770481, 0.12860333757540962, 0.6751675222709005, 0.09645250318155721, 0.9623081292126616, 0.9623620245203136, 0.9373080464173175, 0.9594271076471017, 0.9625900758568662, 0.929773725723614, 0.9455914208157837, 0.09412427459375455, 0.8157437131458728, 0.09412427459375455, 0.5988167903901737, 0.12328580978621223, 0.26418387811331195, 0.9762973253472238, 0.9654159149223646, 0.9175479912037264, 0.9685278806624789, 0.13611609966871258, 0.8507256229294536, 0.12624689923264995, 0.8206048450122247, 0.9705352573411762, 0.3898433373029844, 0.3082482201930574, 0.1903886065898296, 0.0997273653565774, 0.6342895518300118, 0.3594307460370067, 0.9661987220975972, 0.9678916558063619, 0.1278481790902334, 0.7457810446930282, 0.1278481790902334, 0.9889304042075671, 0.947414639388034, 0.8772514312201832, 0.10320605073178626, 0.9572296429388949, 0.30144647929275675, 0.5705951215184324, 0.10765945689027026, 0.010765945689027025, 0.9425328402481253, 0.7423349118754059, 0.17581616333891192, 0.07814051703951641, 0.9828621364251555, 0.9630651410434391, 0.909272675445855, 0.45479270400900895, 0.16892300434620333, 0.1429348498314028, 0.1169466953166023, 0.07796446354440154, 0.03898223177220077, 0.9095294173078041, 0.9782439165395558, 0.9023719653905248, 0.05308070384650145, 0.21446823974733423, 0.7863835457402255, 0.9166291526649937, 0.08087904288220532, 0.0861012502773816, 0.8610125027738159, 0.2343454128560635, 0.7323294151751985, 0.9388858349305562, 0.043669108601421223, 0.9336973360970552, 0.9800589136159212, 0.9708569641005885, 0.3450708415208213, 0.6370538612692086, 0.1423078336948503, 0.8538470021691018, 0.3715204758529877, 0.07961153053992594, 0.4511320063929137, 0.07961153053992594, 0.9865884554983695, 0.9724434638762751, 0.9504964782955799, 0.9756362149505744, 0.1604733416245587, 0.7283020889114586, 0.11109692881700217, 0.17859476385138934, 0.18975693659210116, 0.01674325911106775, 0.42416256414704967, 0.1869663934069232, 0.9417151527271175, 0.08845454864338567, 0.8845454864338568, 0.908172268781681, 0.9767449104870943, 0.9169734735330903, 0.8567057325813728, 0.0535441082863358, 0.8964782151802216, 0.31574890492906194, 0.66307270035103, 0.9734218013098138, 0.8951364649204163, 0.23227220497825518, 0.41958849931555775, 0.3071987227131762, 0.041209584754206566, 0.9832600138298462, 0.9236613375599948, 0.9698824104947801, 0.9200241361146546, 0.8674280973514537, 0.9484454984783383, 0.33120502891080317, 0.29808452601972285, 0.3643255318018835, 0.20747139350474755, 0.7261498772666164, 0.963796178106192, 0.9255648047332721, 0.8851169284585952, 0.8234574515333604, 0.1453160208588283, 0.6509494574230538, 0.10849157623717563, 0.21698315247435127, 0.9888375888075638, 0.9718178707897182, 0.9280729451332745, 0.9686826219914828, 0.9384644879920871, 0.962522016865409, 0.14291486480921003, 0.8289062158934182, 0.9516593144873338, 0.9742656350453281, 0.7747803934748013, 0.2185278032877645, 0.9141646056596344, 0.10939412410463509, 0.8204559307847632, 0.17270250420402658, 0.49651969958657644, 0.24466188095570435, 0.08635125210201329, 0.9099324909653663, 0.8176282849661771, 0.16352565699323543, 0.9623078804057941, 0.44058918009216724, 0.23188904215377223, 0.023188904215377223, 0.27826685058452666, 0.9669792538144546, 0.9499647846502163, 0.9908728559762164, 0.9761031981901308, 0.716674619440578, 0.15800700271130852, 0.12414835927317099, 0.7557151486413517, 0.22226916136510344, 0.9735500605641187, 0.9549551880934527, 0.8674282992626025, 0.961005890559987, 0.9165088028629494, 0.9726024008483087, 0.9537754723074958, 0.9454323229302437, 0.9810188012376453, 0.959987604396939, 0.7917658037857268, 0.1979414509464317, 0.9467132021074959, 0.9015012072628487, 0.5912533424555353, 0.39819102655168703, 0.8906125721912114, 0.9835984656870035, 0.9578424478756121, 0.9200241591145943, 0.9689680784384953, 0.9472365488098642, 0.9740958273102028, 0.13031729071924505, 0.1628966133990563, 0.6841657762760365, 0.9677789369364429, 0.9911250882906151, 0.9399979481362264, 0.08596517600107363, 0.8940378304111657, 0.9234997053018373, 0.9432990550904773, 0.9751429918485314, 0.9363134509594635, 0.9572200523358895, 0.7654497757457059, 0.22679993355428324, 0.9162900889518504, 0.9722660422480491, 0.9121927960384352, 0.9121920968731914, 0.9338058914304834, 0.9279934171216934, 0.9319864758229767, 0.1324379865679458, 0.8387739149303235, 0.9650883460868446, 0.9422943902048813, 0.9687521765476789, 0.953963636112947, 0.5911688638039538, 0.386533487871816, 0.43028619324199485, 0.561559947112434, 0.9761034891848613, 0.9616123861260228, 0.9499000290991787, 0.7140878123220245, 0.2570716124359288, 0.9623620245203136, 0.23835464393286032, 0.7597554275359922, 0.2905659260676944, 0.6683016299556971, 0.45866340225649854, 0.3907132685888691, 0.06795013366762942, 0.06795013366762942, 0.9772992374230215, 0.9818330755408131, 0.5494675236121457, 0.38666233143076917, 0.06105194706801618, 0.47717779675672, 0.39296995027024, 0.12163355603602666, 0.9811778677332567, 0.9561271284441581, 0.06713978637510715, 0.872817222876393, 0.972988069756143, 0.9372627996346696, 0.21634467581987718, 0.04992569441997166, 0.14977708325991498, 0.016641898139990553, 0.21634467581987718, 0.33283796279981104, 0.9832974298521744, 0.16341565944727168, 0.8170782972363584, 0.9371031926701647, 0.10059040251930111, 0.08047232201544088, 0.16094464403088177, 0.24141696604632268, 0.40236161007720445, 0.9810658321367354, 0.21085427241052462, 0.7731323321719236, 0.9813955302942219, 0.5432209877818915, 0.4563056297367889, 0.08255723444649458, 0.19813736267158702, 0.7099922162398534, 0.9128490954864882, 0.027930484345169614, 0.5306792025582227, 0.11172193738067845, 0.1955133904161873, 0.027930484345169614, 0.08379145303550885, 0.9309021241746425, 0.9044921258874659, 0.7123798867699455, 0.26714245753872956, 0.9749251266238925, 0.9630650303989577, 0.12035138677417694, 0.8424597074192386, 0.8669521267174275, 0.9166301754653147, 0.05728938596658217, 0.9554874274054017, 0.9476487091963698, 0.90994800880641, 0.5503706032914664, 0.12881014119587508, 0.3161703465716934, 0.9718234064573082, 0.8721724833620437, 0.12826065931794758, 0.9810791386537749, 0.12940943484614895, 0.05176377393845957, 0.18117320878460852, 0.10352754787691915, 0.05176377393845957, 0.4658739654461362, 0.9549557306333843, 0.21725464073655854, 0.14831807204130437, 0.02924581702222903, 0.06266960790477649, 0.25067843161910597, 0.11907225501907535, 0.17129692827305576, 0.978295822027705, 0.18950976208745718, 0.11198304123349744, 0.06891264075907534, 0.04307040047442209, 0.103368961138613, 0.12059712132838185, 0.10767600118605522, 0.2541153627990903, 0.7488232577006845, 0.23177862738354518, 0.8303643432282178, 0.10379554290352723, 0.051897771451763615, 0.9859957136301103, 0.9000287718673626, 0.9228503372392768, 0.9579691428867309, 0.938215138759583, 0.966970777530169, 0.8870008867090174, 0.9485297758240901, 0.9349563985671007, 0.3228315215556639, 0.22194667106951896, 0.4438933421390379, 0.9447334120523765, 0.2117428405745459, 0.2555517041416933, 0.32856647675360573, 0.06571329535072114, 0.007301477261191238, 0.12412511344025104, 0.9829906493252338, 0.33112801294235783, 0.6622560258847157, 0.9170711513589677, 0.06813849165803516, 0.11356415276339193, 0.7949490693437435, 0.9308693215987849, 0.9658160022749099, 0.906577484358883, 0.9097455285157003, 0.9735471372425888, 0.9852082618437599, 0.919261268091076, 0.9107868880873495, 0.9835162672687656, 0.044932079410031654, 0.9435736676106646, 0.9731446095055181, 0.915236314836498, 0.9599581831524204, 0.9121991026511272, 0.9513607144829254, 0.8875301025111915, 0.9611769121753301, 0.9643055793910726, 0.8674282472681061, 0.9677778516358423, 0.9728987739230723, 0.17657534654295756, 0.5885844884765252, 0.15695586359374006, 0.07847793179687003, 0.9456179967840271], \"Term\": [\"+d\\u00edas\", \"acampe\", \"acatan\", \"acatar\", \"actividades\", \"acto\", \"acto\", \"acto\", \"acuerdo\", \"acuerdo\", \"acuerdo\", \"acusa\", \"adelante\", \"adhesi\\u00f3n\", \"adhesi\\u00f3n\", \"adhieran\", \"afecta\", \"afiliados\", \"agarr\\u00f3\", \"agencianovacomnotaaspn__idid_tiponota\", \"agosto\", \"agreden\", \"ahi\", \"ahora\", \"ahora\", \"ahora\", \"ahora\", \"ahora\", \"aires\", \"ajena\", \"alerta\", \"alg\\u00fan\", \"alimentaci\\u00f3n\", \"amenaza\", \"amerita\", \"anterior\", \"anuncia\", \"anunciar\", \"anunciaron\", \"anuncio\", \"anunci\\u00f3\", \"anunci\\u00f3\", \"anunci\\u00f3\", \"aplausos\", \"apostando\", \"apoyo\", \"apuro\", \"argentina\", \"argentina\", \"argentina\", \"asinosepuedeseguir\", \"ate\", \"ate\", \"atus\", \"aumento\", \"aumento\", \"aut\\u00f3noma\", \"a\\u00f1o\", \"a\\u00f1o\", \"a\\u00f1o\", \"a\\u00f1os\", \"a\\u00f1os\", \"a\\u00f1os\", \"bajo\", \"bajo\", \"basta\", \"bien\", \"bien\", \"bien\", \"bien\", \"bien\", \"bitlyufcn\", \"bitlyumdwrq\", \"bolsa\", \"bueno\", \"bueno\", \"buenos\", \"cabeza\", \"cada\", \"cada\", \"cagan\", \"calles\", \"cambiemos\", \"cambio\", \"carajo\", \"cardiaco\", \"carpa\", \"casi\", \"central\", \"ceos\", \"cerebral\", \"cfk\", \"cfk\", \"cgt\", \"cgt\", \"cgt\", \"cgt\", \"cgt\", \"cgt\", \"choferes\", \"choferes\", \"cicop\", \"ciudad\", \"ciudad\", \"ciudad\", \"compa\\u00f1ero\", \"conflicto\", \"consejo\", \"contin\\u00faa\", \"controla\", \"convoca\", \"convocar\", \"convoc\\u00f3\", \"corporaciones\", \"costo\", \"creer\", \"cristina\", \"cristina\", \"cristina\", \"cruz\", \"cruz\", \"cr\\u00edtico\", \"cta\", \"cta\", \"cualquier\", \"cualquier\", \"cuanto\", \"cuantos\", \"culo\", \"cusco\", \"daer\", \"dando\", \"datos\", \"deber\\u00eda\", \"deber\\u00eda\", \"decidi\\u00f3\", \"declar\\u00f3\", \"decretar\", \"defensa\", \"derechos\", \"descenso\", \"desobediencia\", \"despedidos\", \"despedidos\", \"despidieron\", \"despidos\", \"despidos\", \"despues\", \"diarrea\", \"dice\", \"dice\", \"dicen\", \"dicen\", \"dijeron\", \"dijo\", \"dijo\", \"dijo\", \"dirigentes\", \"dirigentes\", \"disposici\\u00f3n\", \"di\\u00e1logo\", \"docente\", \"docente\", \"docente\", \"docente\", \"docentes\", \"docentes\", \"docentes\", \"documento\", \"dos\", \"dos\", \"dos\", \"doy\", \"d\\u00eda\", \"d\\u00eda\", \"d\\u00eda\", \"d\\u00eda\", \"d\\u00eda\", \"d\\u00edas\", \"d\\u00edas\", \"d\\u00edas\", \"d\\u00edas\", \"d\\u00edas\", \"eh\", \"eldiario\", \"elecciones\", \"elecci\\u00f3n\", \"empleo\", \"empleo\", \"empleo\", \"empleo\", \"empresarios\", \"encamina\", \"encanta\", \"encima\", \"entienden\", \"escucha\", \"esperan\", \"estatales\", \"eval\\u00faan\", \"examen\", \"excelentes\", \"exigen\", \"expedientes\", \"falso\", \"falta\", \"falta\", \"falta\", \"fecha\", \"feriado\", \"fin\", \"fotos\", \"frente\", \"frente\", \"frente\", \"fuerza\", \"galapagar\", \"galapagar\", \"ganancias\", \"ganancias\", \"ganas\", \"general\", \"general\", \"general\", \"general\", \"general\", \"generar\", \"gente\", \"gente\", \"gente\", \"gente\", \"gente\", \"gente\", \"gente\", \"gobierno\", \"gobierno\", \"gobierno\", \"gobierno\", \"gobierno\", \"gobierno\", \"gobierno\", \"gobierno\", \"gobierno\", \"golpe\", \"gordos\", \"gral\", \"gran\", \"gran\", \"gran\", \"grande\", \"gremialistas\", \"gremios\", \"gremios\", \"gremios\", \"haber\", \"hablar\", \"hacemos\", \"hacen\", \"hacen\", \"hacer\", \"hacer\", \"hacer\", \"hacer\", \"hacian\", \"hac\\u00edan\", \"haga\", \"hagan\", \"hago\", \"har\\u00e1\", \"har\\u00e1\", \"hdp\", \"hdp\", \"hecho\", \"hecho\", \"hicieron\", \"hijos\", \"hora\", \"hora\", \"horas\", \"horas\", \"horas\", \"horas\", \"horas\", \"hoy\", \"hoy\", \"hoy\", \"hoy\", \"hoy\", \"hoy\", \"hoy\", \"hoy\", \"huelga\", \"huelga\", \"huelga\", \"huelga\", \"huelga\", \"huelga\", \"importa\", \"impuesto\", \"incumplimiento\", \"indefinida\", \"indefinido\", \"indefinido\", \"indeterminado\", \"insiste\", \"interna\", \"interrumpir\", \"invierno\", \"izquierda\", \"izquierda\", \"izquierda\", \"izquierda\", \"joda\", \"jornada\", \"jornada\", \"judiciales\", \"judiciales\", \"jueves\", \"jueves\", \"juliaca\", \"justo\", \"k\", \"k\", \"kuczynski\", \"laboral\", \"laboral\", \"laboral\", \"laboral\", \"laburo\", \"laizquierdadiariocomlacgtsinapu\", \"lanzan\", \"lashs\", \"latente\", \"levantan\", \"lima\", \"llama\", \"llama\", \"llama\", \"llamar\", \"llamar\", \"llamar\", \"llamen\", \"llam\\u00f3\", \"llevar\", \"lleven\", \"lucha\", \"lucha\", \"lunes\", \"lunes\", \"l\\u00ednea\", \"macri\", \"macri\", \"macri\", \"macri\", \"macrireprimepepsico\", \"macrireprimepepsico\", \"madre\", \"maduro\", \"maestros\", \"maestros\", \"maestros\", \"mal\", \"manga\", \"mano\", \"mano\", \"mantiene\", \"marcha\", \"marcha\", \"marcha\", \"marcha\", \"marchas\", \"mas\", \"mas\", \"mas\", \"massa\", \"matar\", \"mayor\", \"ma\\u00f1ana\", \"ma\\u00f1ana\", \"ma\\u00f1ana\", \"ma\\u00f1ana\", \"ma\\u00f1ana\", \"ma\\u00f1ana\", \"mecanismo\", \"mecanismo\\u2026\", \"medida\", \"medida\", \"medidas\", \"medidas\", \"medio\", \"medio\", \"mejor\", \"mejor\", \"mejoras\", \"mejoras\", \"mes\", \"mes\", \"meter\", \"metro\", \"miedo\", \"mientras\", \"mientras\", \"mierda\", \"mierda\", \"mil\", \"mil\", \"mil\", \"mil\", \"ministerio\", \"mira\", \"mismo\", \"motivo\", \"movilizacion\", \"movilizacion\", \"movilizacion\", \"movilizaci\\u00f3n\", \"movilizaci\\u00f3n\", \"movilizaci\\u00f3n\", \"movilizaci\\u00f3n\", \"movilizaci\\u00f3n\", \"movilizan\", \"moyano\", \"moyano\", \"mucha\", \"muchas\", \"muerto\", \"mundo\", \"mundo\", \"municipio\", \"m\\u00e9dicos\", \"m\\u00e9dicos\", \"m\\u00ednimo\", \"n\", \"nacional\", \"nacional\", \"nacional\", \"nacional\", \"nadie\", \"navarro\", \"necesita\", \"ni\\u00f1ez\", \"normalmente\", \"nueva\", \"nuevo\", \"nuevo\", \"nuevo\", \"nunca\", \"nunca\", \"obelisco\", \"oferta\", \"ojal\\u00e1\", \"ojo\", \"ojo\", \"oposici\\u00f3n\", \"oposici\\u00f3n\", \"oposici\\u00f3n\", \"opositor\", \"oreja\", \"owlyegpadcawl\", \"owlyqpdsred\", \"pagan\", \"pagar\", \"pago\", \"pago\", \"paguen\", \"palos\", \"paritarias\", \"paritarias\", \"paros\", \"parte\", \"parte\", \"par\\u00f3\", \"par\\u00f3\", \"par\\u00f3\", \"par\\u00f3\", \"pasar\", \"paso\", \"paso\", \"pas\\u00f3\", \"pa\\u00eds\", \"pa\\u00eds\", \"pa\\u00eds\", \"pa\\u00eds\", \"pedido\", \"pelotas\", \"pena\", \"pens\\u00e9\", \"pepsico\", \"pepsico\", \"pepsico\", \"petrolero\", \"petrolero\", \"pe\\u00f1a\", \"pidieron\", \"piedras\", \"plan\", \"plata\", \"poceta\", \"podr\\u00eda\", \"polic\\u00eda\", \"politico\", \"pollo\", \"pol\\u00edtica\", \"pol\\u00edtica\", \"pol\\u00edtico\", \"portal\", \"porte\\u00f1os\", \"porte\\u00f1os\", \"privada\", \"pro\", \"propuesta\", \"protestas\", \"proyecto\", \"psoe\", \"publicidad\", \"pueblo\", \"pueblo\", \"pueblo\", \"puntos\", \"puta\", \"putean\", \"p\\u00fablico\", \"p\\u00fablico\", \"queda\", \"quedan\", \"quemaron\", \"queremos\", \"quiera\", \"quiero\", \"quiero\", \"quitar\", \"ratas\", \"rato\", \"recibe\", \"reclamos\", \"reducir\", \"region\", \"regional\", \"regional\", \"reino\", \"representa\", \"representan\", \"represion\", \"represionenpepsico\", \"represionenpepsico\", \"represi\\u00f3n\", \"represi\\u00f3n\", \"repudiar\", \"repudio\", \"resistencia\", \"respuesta\", \"respuesta\", \"rofrentealosdespidosylarepresionmovilizacionsinparoparaeldeagosto\", \"salarial\", \"salarial\", \"salariales\", \"salariales\", \"salarios\", \"salarios\", \"salarios\", \"salarios\", \"salvaje\", \"sanitaria\", \"santa\", \"santa\", \"santa\", \"sarmiento\", \"sarmiento\", \"sarmiento\", \"seguir\", \"seguridad\", \"seguro\", \"seguro\", \"seg\\u00fan\", \"semanas\", \"ser\", \"ser\", \"ser\", \"ser\", \"ser\", \"ser\", \"serio\", \"servicio\", \"servicio\", \"sindicales\", \"sindicato\", \"sindicato\", \"sindicato\", \"sindicato\", \"sindicato\", \"sino\", \"siquiera\", \"siquiera\", \"sobrero\", \"solidaridad\", \"solidaridad\", \"solo\", \"solo\", \"solo\", \"soretes\", \"status\", \"status\", \"status\", \"status\", \"status\", \"status\", \"sueldos\", \"sugiere\", \"sutep\", \"sutep\", \"s\\u00f3lo\", \"s\\u00faper\", \"tan\", \"tan\", \"tarea\", \"taxistas\", \"taxistas\", \"tb\", \"telam\", \"tibios\", \"tiempo\", \"tiempo\", \"tiempo\", \"tiempos\", \"toma\", \"toma\", \"total\", \"trabajador\", \"trabajador\", \"trabajador\", \"trabajador\", \"trabajador\", \"trabajador\", \"trabajadora\", \"trabajadores\", \"trabajadores\", \"trabajadores\", \"trabajadores\", \"trabajadores\", \"trabajadores\", \"trabajadores\", \"trabajando\", \"trabajo\", \"trabajo\", \"trabajo\", \"trabajo\", \"trabajo\", \"trabajo\", \"trabajo\", \"trabajo\", \"traidores\", \"traidores\", \"transporte\", \"transporte\", \"transporte\", \"tren\", \"tres\", \"triunvirato\", \"troskos\", \"twittercomzetaorlandost\", \"t\\u00e9lam\", \"ud\", \"unicos\", \"ustedes\", \"vacaciones\", \"vacaciones\", \"vacaciones\", \"vagos\", \"van\", \"van\", \"van\", \"van\", \"van\", \"van\", \"vas\", \"vayan\", \"vayan\", \"veces\", \"venezuela\", \"venezuela\", \"venezuela\", \"verdad\", \"verg\\u00fcenza\", \"ves\", \"vida\", \"vidal\", \"video\", \"viedma\", \"vienen\", \"viernes\", \"viven\", \"viven\", \"votos\", \"vuelta\", \"vuelven\", \"v\\u00e1yanse\", \"wpmepjxjrwtp\", \"yendo\", \"zurdos\", \"\\u00bf\", \"\\u00bfla\", \"\\u00e9xito\", \"\\u00fanico\", \"\\u201c\", \"\\u201c\", \"\\u201c\", \"\\u201c\", \"\\u25ba\"]}, \"R\": 30, \"lambda.step\": 0.01, \"plot.opts\": {\"xlab\": \"PC1\", \"ylab\": \"PC2\"}, \"topic.order\": [9, 6, 3, 1, 5, 8, 2, 10, 7, 4]};\n",
       "\n",
       "function LDAvis_load_lib(url, callback){\n",
       "  var s = document.createElement('script');\n",
       "  s.src = url;\n",
       "  s.async = true;\n",
       "  s.onreadystatechange = s.onload = callback;\n",
       "  s.onerror = function(){console.warn(\"failed to load library \" + url);};\n",
       "  document.getElementsByTagName(\"head\")[0].appendChild(s);\n",
       "}\n",
       "\n",
       "if(typeof(LDAvis) !== \"undefined\"){\n",
       "   // already loaded: just create the visualization\n",
       "   !function(LDAvis){\n",
       "       new LDAvis(\"#\" + \"ldavis_el27881213148540163212308946\", ldavis_el27881213148540163212308946_data);\n",
       "   }(LDAvis);\n",
       "}else if(typeof define === \"function\" && define.amd){\n",
       "   // require.js is available: use it to load d3/LDAvis\n",
       "   require.config({paths: {d3: \"https://cdnjs.cloudflare.com/ajax/libs/d3/3.5.5/d3.min\"}});\n",
       "   require([\"d3\"], function(d3){\n",
       "      window.d3 = d3;\n",
       "      LDAvis_load_lib(\"https://cdn.rawgit.com/bmabey/pyLDAvis/files/ldavis.v1.0.0.js\", function(){\n",
       "        new LDAvis(\"#\" + \"ldavis_el27881213148540163212308946\", ldavis_el27881213148540163212308946_data);\n",
       "      });\n",
       "    });\n",
       "}else{\n",
       "    // require.js not available: dynamically load d3 & LDAvis\n",
       "    LDAvis_load_lib(\"https://cdnjs.cloudflare.com/ajax/libs/d3/3.5.5/d3.min.js\", function(){\n",
       "         LDAvis_load_lib(\"https://cdn.rawgit.com/bmabey/pyLDAvis/files/ldavis.v1.0.0.js\", function(){\n",
       "                 new LDAvis(\"#\" + \"ldavis_el27881213148540163212308946\", ldavis_el27881213148540163212308946_data);\n",
       "            })\n",
       "         });\n",
       "}\n",
       "</script>"
      ],
      "text/plain": [
       "<IPython.core.display.HTML object>"
      ]
     },
     "execution_count": 72,
     "metadata": {},
     "output_type": "execute_result"
    }
   ],
   "source": [
    "tweets_data =  pyLDAvis.gensim.prepare(lda, corpus, dictionary)\n",
    "pyLDAvis.display(tweets_data)"
   ]
  },
  {
   "cell_type": "code",
   "execution_count": null,
   "metadata": {
    "collapsed": true
   },
   "outputs": [],
   "source": []
  }
 ],
 "metadata": {
  "kernelspec": {
   "display_name": "Python 3",
   "language": "python",
   "name": "python3"
  },
  "language_info": {
   "codemirror_mode": {
    "name": "ipython",
    "version": 3
   },
   "file_extension": ".py",
   "mimetype": "text/x-python",
   "name": "python",
   "nbconvert_exporter": "python",
   "pygments_lexer": "ipython3",
   "version": "3.6.1"
  }
 },
 "nbformat": 4,
 "nbformat_minor": 2
}
